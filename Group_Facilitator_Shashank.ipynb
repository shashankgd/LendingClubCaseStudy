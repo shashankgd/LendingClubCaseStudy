{
 "cells": [
  {
   "cell_type": "markdown",
   "id": "a0dd6a1c-cecf-4d7a-a173-962cd5cf9818",
   "metadata": {},
   "source": [
    "# Lending Club Case Study Notebook\n",
    "\n",
    "### Introduction\n"
   ]
  },
  {
   "cell_type": "markdown",
   "id": "8910eee9-7962-468e-81cd-7dcaa2fa77de",
   "metadata": {},
   "source": [
    "#### Goal\n",
    "    How data can be used minimize the risk of losing money while lending to customers.\n",
    "\n",
    "#### Context of Problem\n",
    "    This company is the largest online loan marketplace, facilitating personal loans, business loans, and financing of\n",
    "    medical procedures. Borrowers can easily access lower interest rate loans through a fast online interface.\n",
    "\n",
    "#### Business Problem: \n",
    "    Like most other lending companies, lending loans to ‘risky’ applicants is the largest source of financial loss\n",
    "    (called credit loss). Credit loss is the amount of money lost by the lender when the borrower refuses to pay or runs away with the money owed. In other words, borrowers who default cause the largest amount of loss to the lenders. In this case, the customers labelled as 'charged-off' are the 'defaulters'.\n",
    "\n",
    "#### Target: \n",
    "    If one is able to identify these risky loan applicants, then such loans can be reduced thereby cutting down the amount of credit loss. Identification of such applicants using EDA is the aim of this case study.\n",
    "\n",
    "#### Risk associated with the problem\n",
    "    - If the applicant is likely to repay the loan, then not approving loan is a loss of business (rejecting loans for non - default).\n",
    "    \n",
    "    - If the applicant is not likely to repay the loan, then approving loan may lead to financial loss (approving loans for default). The given dataset contains information about past loans and each row represents the loan details of the applicants.\n",
    "\n",
    "#### Datset: \n",
    "    Dataset contains loan data for all loans issued through the time period 2007 t0 2011."
   ]
  },
  {
   "cell_type": "code",
   "execution_count": 1,
   "id": "f443ffb2-8c7b-4edc-91be-2776b11c4176",
   "metadata": {},
   "outputs": [],
   "source": [
    "%load_ext autoreload\n",
    "%autoreload 2\n"
   ]
  },
  {
   "cell_type": "code",
   "execution_count": 2,
   "id": "72892d4a-905a-4d93-8250-0824fc7ceaff",
   "metadata": {},
   "outputs": [
    {
     "name": "stdout",
     "output_type": "stream",
     "text": [
      "Requirement already satisfied: matplotlib==3.9.2 in /Users/shashank.khandelwal/miniconda3/envs/ln_case_study/lib/python3.12/site-packages (from -r requirements.txt (line 1)) (3.9.2)\n",
      "Requirement already satisfied: numpy==2.0.1 in /Users/shashank.khandelwal/miniconda3/envs/ln_case_study/lib/python3.12/site-packages (from -r requirements.txt (line 2)) (2.0.1)\n",
      "Requirement already satisfied: openpyxl==3.1.5 in /Users/shashank.khandelwal/miniconda3/envs/ln_case_study/lib/python3.12/site-packages (from -r requirements.txt (line 3)) (3.1.5)\n",
      "Requirement already satisfied: pandas==2.2.2 in /Users/shashank.khandelwal/miniconda3/envs/ln_case_study/lib/python3.12/site-packages (from -r requirements.txt (line 4)) (2.2.2)\n",
      "Requirement already satisfied: scipy==1.14.0 in /Users/shashank.khandelwal/miniconda3/envs/ln_case_study/lib/python3.12/site-packages (from -r requirements.txt (line 5)) (1.14.0)\n",
      "Requirement already satisfied: seaborn==0.13.2 in /Users/shashank.khandelwal/miniconda3/envs/ln_case_study/lib/python3.12/site-packages (from -r requirements.txt (line 6)) (0.13.2)\n",
      "Requirement already satisfied: contourpy>=1.0.1 in /Users/shashank.khandelwal/miniconda3/envs/ln_case_study/lib/python3.12/site-packages (from matplotlib==3.9.2->-r requirements.txt (line 1)) (1.2.1)\n",
      "Requirement already satisfied: cycler>=0.10 in /Users/shashank.khandelwal/miniconda3/envs/ln_case_study/lib/python3.12/site-packages (from matplotlib==3.9.2->-r requirements.txt (line 1)) (0.12.1)\n",
      "Requirement already satisfied: fonttools>=4.22.0 in /Users/shashank.khandelwal/miniconda3/envs/ln_case_study/lib/python3.12/site-packages (from matplotlib==3.9.2->-r requirements.txt (line 1)) (4.53.1)\n",
      "Requirement already satisfied: kiwisolver>=1.3.1 in /Users/shashank.khandelwal/miniconda3/envs/ln_case_study/lib/python3.12/site-packages (from matplotlib==3.9.2->-r requirements.txt (line 1)) (1.4.5)\n",
      "Requirement already satisfied: packaging>=20.0 in /Users/shashank.khandelwal/miniconda3/envs/ln_case_study/lib/python3.12/site-packages (from matplotlib==3.9.2->-r requirements.txt (line 1)) (24.1)\n",
      "Requirement already satisfied: pillow>=8 in /Users/shashank.khandelwal/miniconda3/envs/ln_case_study/lib/python3.12/site-packages (from matplotlib==3.9.2->-r requirements.txt (line 1)) (10.4.0)\n",
      "Requirement already satisfied: pyparsing>=2.3.1 in /Users/shashank.khandelwal/miniconda3/envs/ln_case_study/lib/python3.12/site-packages (from matplotlib==3.9.2->-r requirements.txt (line 1)) (3.1.2)\n",
      "Requirement already satisfied: python-dateutil>=2.7 in /Users/shashank.khandelwal/miniconda3/envs/ln_case_study/lib/python3.12/site-packages (from matplotlib==3.9.2->-r requirements.txt (line 1)) (2.9.0.post0)\n",
      "Requirement already satisfied: et-xmlfile in /Users/shashank.khandelwal/miniconda3/envs/ln_case_study/lib/python3.12/site-packages (from openpyxl==3.1.5->-r requirements.txt (line 3)) (1.1.0)\n",
      "Requirement already satisfied: pytz>=2020.1 in /Users/shashank.khandelwal/miniconda3/envs/ln_case_study/lib/python3.12/site-packages (from pandas==2.2.2->-r requirements.txt (line 4)) (2024.1)\n",
      "Requirement already satisfied: tzdata>=2022.7 in /Users/shashank.khandelwal/miniconda3/envs/ln_case_study/lib/python3.12/site-packages (from pandas==2.2.2->-r requirements.txt (line 4)) (2024.1)\n",
      "Requirement already satisfied: six>=1.5 in /Users/shashank.khandelwal/miniconda3/envs/ln_case_study/lib/python3.12/site-packages (from python-dateutil>=2.7->matplotlib==3.9.2->-r requirements.txt (line 1)) (1.16.0)\n"
     ]
    }
   ],
   "source": [
    "!pip install -r requirements.txt"
   ]
  },
  {
   "cell_type": "code",
   "execution_count": 3,
   "id": "d67876e2-be1a-47df-b5ed-7ade90b6370f",
   "metadata": {},
   "outputs": [],
   "source": [
    "import numpy as np\n",
    "import pandas as pd\n",
    "import matplotlib.pyplot as plt\n",
    "import seaborn as sns\n",
    "\n",
    "## Import helpers function\n",
    "from helpers import load_loan_data"
   ]
  },
  {
   "cell_type": "code",
   "execution_count": 4,
   "id": "a3fb5e08-9ca8-47bd-ae64-48ff3a7cfd22",
   "metadata": {},
   "outputs": [
    {
     "name": "stderr",
     "output_type": "stream",
     "text": [
      "/Users/shashank.khandelwal/Library/CloudStorage/OneDrive-Logility/pcode/LendingClubCaseStudy/helpers.py:5: DtypeWarning: Columns (47) have mixed types. Specify dtype option on import or set low_memory=False.\n",
      "  df = pd.read_csv('loan.csv')\n"
     ]
    },
    {
     "data": {
      "text/html": [
       "<div>\n",
       "<style scoped>\n",
       "    .dataframe tbody tr th:only-of-type {\n",
       "        vertical-align: middle;\n",
       "    }\n",
       "\n",
       "    .dataframe tbody tr th {\n",
       "        vertical-align: top;\n",
       "    }\n",
       "\n",
       "    .dataframe thead th {\n",
       "        text-align: right;\n",
       "    }\n",
       "</style>\n",
       "<table border=\"1\" class=\"dataframe\">\n",
       "  <thead>\n",
       "    <tr style=\"text-align: right;\">\n",
       "      <th></th>\n",
       "      <th>id</th>\n",
       "      <th>member_id</th>\n",
       "      <th>loan_amnt</th>\n",
       "      <th>funded_amnt</th>\n",
       "      <th>funded_amnt_inv</th>\n",
       "      <th>term</th>\n",
       "      <th>int_rate</th>\n",
       "      <th>installment</th>\n",
       "      <th>grade</th>\n",
       "      <th>sub_grade</th>\n",
       "      <th>...</th>\n",
       "      <th>num_tl_90g_dpd_24m</th>\n",
       "      <th>num_tl_op_past_12m</th>\n",
       "      <th>pct_tl_nvr_dlq</th>\n",
       "      <th>percent_bc_gt_75</th>\n",
       "      <th>pub_rec_bankruptcies</th>\n",
       "      <th>tax_liens</th>\n",
       "      <th>tot_hi_cred_lim</th>\n",
       "      <th>total_bal_ex_mort</th>\n",
       "      <th>total_bc_limit</th>\n",
       "      <th>total_il_high_credit_limit</th>\n",
       "    </tr>\n",
       "  </thead>\n",
       "  <tbody>\n",
       "    <tr>\n",
       "      <th>0</th>\n",
       "      <td>1077501</td>\n",
       "      <td>1296599</td>\n",
       "      <td>5000</td>\n",
       "      <td>5000</td>\n",
       "      <td>4975.0</td>\n",
       "      <td>36 months</td>\n",
       "      <td>10.65%</td>\n",
       "      <td>162.87</td>\n",
       "      <td>B</td>\n",
       "      <td>B2</td>\n",
       "      <td>...</td>\n",
       "      <td>NaN</td>\n",
       "      <td>NaN</td>\n",
       "      <td>NaN</td>\n",
       "      <td>NaN</td>\n",
       "      <td>0.0</td>\n",
       "      <td>0.0</td>\n",
       "      <td>NaN</td>\n",
       "      <td>NaN</td>\n",
       "      <td>NaN</td>\n",
       "      <td>NaN</td>\n",
       "    </tr>\n",
       "    <tr>\n",
       "      <th>1</th>\n",
       "      <td>1077430</td>\n",
       "      <td>1314167</td>\n",
       "      <td>2500</td>\n",
       "      <td>2500</td>\n",
       "      <td>2500.0</td>\n",
       "      <td>60 months</td>\n",
       "      <td>15.27%</td>\n",
       "      <td>59.83</td>\n",
       "      <td>C</td>\n",
       "      <td>C4</td>\n",
       "      <td>...</td>\n",
       "      <td>NaN</td>\n",
       "      <td>NaN</td>\n",
       "      <td>NaN</td>\n",
       "      <td>NaN</td>\n",
       "      <td>0.0</td>\n",
       "      <td>0.0</td>\n",
       "      <td>NaN</td>\n",
       "      <td>NaN</td>\n",
       "      <td>NaN</td>\n",
       "      <td>NaN</td>\n",
       "    </tr>\n",
       "    <tr>\n",
       "      <th>2</th>\n",
       "      <td>1077175</td>\n",
       "      <td>1313524</td>\n",
       "      <td>2400</td>\n",
       "      <td>2400</td>\n",
       "      <td>2400.0</td>\n",
       "      <td>36 months</td>\n",
       "      <td>15.96%</td>\n",
       "      <td>84.33</td>\n",
       "      <td>C</td>\n",
       "      <td>C5</td>\n",
       "      <td>...</td>\n",
       "      <td>NaN</td>\n",
       "      <td>NaN</td>\n",
       "      <td>NaN</td>\n",
       "      <td>NaN</td>\n",
       "      <td>0.0</td>\n",
       "      <td>0.0</td>\n",
       "      <td>NaN</td>\n",
       "      <td>NaN</td>\n",
       "      <td>NaN</td>\n",
       "      <td>NaN</td>\n",
       "    </tr>\n",
       "    <tr>\n",
       "      <th>3</th>\n",
       "      <td>1076863</td>\n",
       "      <td>1277178</td>\n",
       "      <td>10000</td>\n",
       "      <td>10000</td>\n",
       "      <td>10000.0</td>\n",
       "      <td>36 months</td>\n",
       "      <td>13.49%</td>\n",
       "      <td>339.31</td>\n",
       "      <td>C</td>\n",
       "      <td>C1</td>\n",
       "      <td>...</td>\n",
       "      <td>NaN</td>\n",
       "      <td>NaN</td>\n",
       "      <td>NaN</td>\n",
       "      <td>NaN</td>\n",
       "      <td>0.0</td>\n",
       "      <td>0.0</td>\n",
       "      <td>NaN</td>\n",
       "      <td>NaN</td>\n",
       "      <td>NaN</td>\n",
       "      <td>NaN</td>\n",
       "    </tr>\n",
       "    <tr>\n",
       "      <th>4</th>\n",
       "      <td>1075358</td>\n",
       "      <td>1311748</td>\n",
       "      <td>3000</td>\n",
       "      <td>3000</td>\n",
       "      <td>3000.0</td>\n",
       "      <td>60 months</td>\n",
       "      <td>12.69%</td>\n",
       "      <td>67.79</td>\n",
       "      <td>B</td>\n",
       "      <td>B5</td>\n",
       "      <td>...</td>\n",
       "      <td>NaN</td>\n",
       "      <td>NaN</td>\n",
       "      <td>NaN</td>\n",
       "      <td>NaN</td>\n",
       "      <td>0.0</td>\n",
       "      <td>0.0</td>\n",
       "      <td>NaN</td>\n",
       "      <td>NaN</td>\n",
       "      <td>NaN</td>\n",
       "      <td>NaN</td>\n",
       "    </tr>\n",
       "  </tbody>\n",
       "</table>\n",
       "<p>5 rows × 111 columns</p>\n",
       "</div>"
      ],
      "text/plain": [
       "        id  member_id  loan_amnt  funded_amnt  funded_amnt_inv        term  \\\n",
       "0  1077501    1296599       5000         5000           4975.0   36 months   \n",
       "1  1077430    1314167       2500         2500           2500.0   60 months   \n",
       "2  1077175    1313524       2400         2400           2400.0   36 months   \n",
       "3  1076863    1277178      10000        10000          10000.0   36 months   \n",
       "4  1075358    1311748       3000         3000           3000.0   60 months   \n",
       "\n",
       "  int_rate  installment grade sub_grade  ... num_tl_90g_dpd_24m  \\\n",
       "0   10.65%       162.87     B        B2  ...                NaN   \n",
       "1   15.27%        59.83     C        C4  ...                NaN   \n",
       "2   15.96%        84.33     C        C5  ...                NaN   \n",
       "3   13.49%       339.31     C        C1  ...                NaN   \n",
       "4   12.69%        67.79     B        B5  ...                NaN   \n",
       "\n",
       "  num_tl_op_past_12m pct_tl_nvr_dlq  percent_bc_gt_75 pub_rec_bankruptcies  \\\n",
       "0                NaN            NaN               NaN                  0.0   \n",
       "1                NaN            NaN               NaN                  0.0   \n",
       "2                NaN            NaN               NaN                  0.0   \n",
       "3                NaN            NaN               NaN                  0.0   \n",
       "4                NaN            NaN               NaN                  0.0   \n",
       "\n",
       "  tax_liens tot_hi_cred_lim total_bal_ex_mort total_bc_limit  \\\n",
       "0       0.0             NaN               NaN            NaN   \n",
       "1       0.0             NaN               NaN            NaN   \n",
       "2       0.0             NaN               NaN            NaN   \n",
       "3       0.0             NaN               NaN            NaN   \n",
       "4       0.0             NaN               NaN            NaN   \n",
       "\n",
       "  total_il_high_credit_limit  \n",
       "0                        NaN  \n",
       "1                        NaN  \n",
       "2                        NaN  \n",
       "3                        NaN  \n",
       "4                        NaN  \n",
       "\n",
       "[5 rows x 111 columns]"
      ]
     },
     "execution_count": 4,
     "metadata": {},
     "output_type": "execute_result"
    }
   ],
   "source": [
    "loan_data_df = load_loan_data()\n",
    "loan_data_df.head()"
   ]
  },
  {
   "cell_type": "markdown",
   "id": "8bd7c58c-8c5e-4a9e-b46c-6ae1c8cf0809",
   "metadata": {},
   "source": [
    "## Data Cleanup"
   ]
  },
  {
   "cell_type": "markdown",
   "id": "23fb10c5-8f92-4913-b356-54e3f3f3b011",
   "metadata": {},
   "source": [
    "As per above warning, it seems that data in column 47 is having mixed dtypes. Lets Analyse it and fix it. "
   ]
  },
  {
   "cell_type": "code",
   "execution_count": 5,
   "id": "1a14b2c1-58a7-4cec-9a1f-0a47634ba83d",
   "metadata": {},
   "outputs": [
    {
     "name": "stdout",
     "output_type": "stream",
     "text": [
      "next_pymnt_d\n",
      "[nan, nan, nan, nan, 'Jun-16', nan, nan, nan, nan, nan, nan, nan, nan, nan, nan, nan, nan, nan, nan, nan]\n"
     ]
    }
   ],
   "source": [
    "# Print the column name at index 47\n",
    "column_name = loan_data_df.columns[47]\n",
    "print(column_name)\n",
    "print(loan_data_df[column_name].to_list()[:20])\n",
    "\n"
   ]
  },
  {
   "cell_type": "markdown",
   "id": "d9d09ae4-2991-4387-8d37-be57d11b850f",
   "metadata": {},
   "source": [
    "So, as per above this issue is because the column contains data in string format and nan value. \n",
    "We can ignore it for now. "
   ]
  },
  {
   "cell_type": "markdown",
   "id": "fca82537-b3d2-413c-a6ae-4db9d3472212",
   "metadata": {},
   "source": [
    "### Data Cleaning steps\n",
    "<ol>\n",
    "    <li>\n",
    "        Drop columns with all null values\n",
    "    </li>\n",
    "    <li>\n",
    "        Drop columns where null value percentage is > 60\n",
    "    </li>\n",
    "    <li>Drop columns with all 0 values</li>\n",
    "    <li>\n",
    "        Convert term into int\n",
    "    </li>\n",
    "    <li>\n",
    "        Remove % from columns int_rate and revol_util\n",
    "    </li>\n",
    "        <li>\n",
    "        Removing duplicate rows from the dataframe\n",
    "    </li>\n",
    "        <li>\n",
    "        Correcting Data Types and Deriving New Columns\n",
    "    </li>\n",
    "        <li>\n",
    "        Removing the outliers\n",
    "    <li>\n",
    "        Consider only rows where loan_status != Current as ongoing loans can't be used to determine credit worthiness\n",
    "    </li>\n",
    "    <li>\n",
    "        \n",
    "    </li>\n",
    "    \n",
    "</ol>"
   ]
  },
  {
   "cell_type": "markdown",
   "id": "1d324675-323f-4e99-8247-21e5016502e1",
   "metadata": {},
   "source": [
    "#### Drop columns with all null values if any\n"
   ]
  },
  {
   "cell_type": "code",
   "execution_count": 6,
   "id": "b7e7fe2b-8b0d-4806-876e-2e281b2715d9",
   "metadata": {},
   "outputs": [
    {
     "name": "stdout",
     "output_type": "stream",
     "text": [
      "Total columns Before drop: (39717, 111)\n",
      "Total columns After drop: (39717, 57)\n"
     ]
    }
   ],
   "source": [
    "# Drop columns with all null values\n",
    "print('Total columns Before drop:',loan_data_df.shape)\n",
    "loan_data = loan_data_df.dropna(axis=1, how='all')\n",
    "print('Total columns After drop:', loan_data.shape)"
   ]
  },
  {
   "cell_type": "markdown",
   "id": "4e10df73-c4b7-42f3-be94-07a95034f1cf",
   "metadata": {},
   "source": [
    "#### Drop columns where null value percentage is > 60\n"
   ]
  },
  {
   "cell_type": "code",
   "execution_count": 7,
   "id": "6e75ae1b-6ea4-464c-8d66-974eb103b041",
   "metadata": {},
   "outputs": [
    {
     "name": "stdout",
     "output_type": "stream",
     "text": [
      "Columns with more than 60% null data : ['mths_since_last_delinq' 'mths_since_last_record' 'next_pymnt_d']\n"
     ]
    }
   ],
   "source": [
    "# Drop columns where null value percentage is > 60\n",
    "\n",
    "null_perc = loan_data.isnull().mean() * 100\n",
    "columns_to_drop = null_perc[null_perc > 60].index\n",
    "print('Columns with more than 60% null data :', columns_to_drop.values)\n"
   ]
  },
  {
   "cell_type": "code",
   "execution_count": 8,
   "id": "ee524ab2-c768-471c-809c-30078254dae6",
   "metadata": {},
   "outputs": [
    {
     "name": "stdout",
     "output_type": "stream",
     "text": [
      "(39717, 54)\n"
     ]
    }
   ],
   "source": [
    "# Removing column with 60% or more null values as it will reduce the impact on analysis\n",
    "loan_data = loan_data.loc[:,loan_data.isnull().sum()/loan_data.shape[0]*100<60]\n",
    "# Shape of the dataframe after removing columns\n",
    "print(loan_data.shape)"
   ]
  },
  {
   "cell_type": "markdown",
   "id": "7511a67f-c983-4fd9-865d-acd9f55fddce",
   "metadata": {},
   "source": [
    "#### Drop columns with all 0 values if any\n"
   ]
  },
  {
   "cell_type": "code",
   "execution_count": 9,
   "id": "7fe38e30-58db-4f53-a75b-e34fa258548c",
   "metadata": {},
   "outputs": [
    {
     "name": "stdout",
     "output_type": "stream",
     "text": [
      "Columns with all 0 values :  ['acc_now_delinq' 'delinq_amnt']\n",
      "Total columns After drop: (39717, 52)\n"
     ]
    }
   ],
   "source": [
    "# Drop columns with all 0 values\n",
    "zero_cols = loan_data.columns[(loan_data==0).all(axis=0)]\n",
    "print('Columns with all 0 values : ',zero_cols.values)\n",
    "loan_data.drop(columns=zero_cols, inplace=True)\n",
    "print('Total columns After drop:', loan_data.shape)\n"
   ]
  },
  {
   "cell_type": "code",
   "execution_count": 10,
   "id": "75b54077-186b-417b-ad7b-26b8f4cf0cfd",
   "metadata": {},
   "outputs": [
    {
     "data": {
      "text/html": [
       "<div>\n",
       "<style scoped>\n",
       "    .dataframe tbody tr th:only-of-type {\n",
       "        vertical-align: middle;\n",
       "    }\n",
       "\n",
       "    .dataframe tbody tr th {\n",
       "        vertical-align: top;\n",
       "    }\n",
       "\n",
       "    .dataframe thead th {\n",
       "        text-align: right;\n",
       "    }\n",
       "</style>\n",
       "<table border=\"1\" class=\"dataframe\">\n",
       "  <thead>\n",
       "    <tr style=\"text-align: right;\">\n",
       "      <th></th>\n",
       "      <th>id</th>\n",
       "      <th>member_id</th>\n",
       "      <th>loan_amnt</th>\n",
       "      <th>funded_amnt</th>\n",
       "      <th>funded_amnt_inv</th>\n",
       "      <th>term</th>\n",
       "      <th>int_rate</th>\n",
       "      <th>installment</th>\n",
       "      <th>grade</th>\n",
       "      <th>sub_grade</th>\n",
       "      <th>...</th>\n",
       "      <th>collection_recovery_fee</th>\n",
       "      <th>last_pymnt_d</th>\n",
       "      <th>last_pymnt_amnt</th>\n",
       "      <th>last_credit_pull_d</th>\n",
       "      <th>collections_12_mths_ex_med</th>\n",
       "      <th>policy_code</th>\n",
       "      <th>application_type</th>\n",
       "      <th>chargeoff_within_12_mths</th>\n",
       "      <th>pub_rec_bankruptcies</th>\n",
       "      <th>tax_liens</th>\n",
       "    </tr>\n",
       "  </thead>\n",
       "  <tbody>\n",
       "    <tr>\n",
       "      <th>0</th>\n",
       "      <td>1077501</td>\n",
       "      <td>1296599</td>\n",
       "      <td>5000</td>\n",
       "      <td>5000</td>\n",
       "      <td>4975.0</td>\n",
       "      <td>36</td>\n",
       "      <td>10.65%</td>\n",
       "      <td>162.87</td>\n",
       "      <td>B</td>\n",
       "      <td>B2</td>\n",
       "      <td>...</td>\n",
       "      <td>0.00</td>\n",
       "      <td>Jan-15</td>\n",
       "      <td>171.62</td>\n",
       "      <td>May-16</td>\n",
       "      <td>0.0</td>\n",
       "      <td>1</td>\n",
       "      <td>INDIVIDUAL</td>\n",
       "      <td>0.0</td>\n",
       "      <td>0.0</td>\n",
       "      <td>0.0</td>\n",
       "    </tr>\n",
       "    <tr>\n",
       "      <th>1</th>\n",
       "      <td>1077430</td>\n",
       "      <td>1314167</td>\n",
       "      <td>2500</td>\n",
       "      <td>2500</td>\n",
       "      <td>2500.0</td>\n",
       "      <td>60</td>\n",
       "      <td>15.27%</td>\n",
       "      <td>59.83</td>\n",
       "      <td>C</td>\n",
       "      <td>C4</td>\n",
       "      <td>...</td>\n",
       "      <td>1.11</td>\n",
       "      <td>Apr-13</td>\n",
       "      <td>119.66</td>\n",
       "      <td>Sep-13</td>\n",
       "      <td>0.0</td>\n",
       "      <td>1</td>\n",
       "      <td>INDIVIDUAL</td>\n",
       "      <td>0.0</td>\n",
       "      <td>0.0</td>\n",
       "      <td>0.0</td>\n",
       "    </tr>\n",
       "    <tr>\n",
       "      <th>2</th>\n",
       "      <td>1077175</td>\n",
       "      <td>1313524</td>\n",
       "      <td>2400</td>\n",
       "      <td>2400</td>\n",
       "      <td>2400.0</td>\n",
       "      <td>36</td>\n",
       "      <td>15.96%</td>\n",
       "      <td>84.33</td>\n",
       "      <td>C</td>\n",
       "      <td>C5</td>\n",
       "      <td>...</td>\n",
       "      <td>0.00</td>\n",
       "      <td>Jun-14</td>\n",
       "      <td>649.91</td>\n",
       "      <td>May-16</td>\n",
       "      <td>0.0</td>\n",
       "      <td>1</td>\n",
       "      <td>INDIVIDUAL</td>\n",
       "      <td>0.0</td>\n",
       "      <td>0.0</td>\n",
       "      <td>0.0</td>\n",
       "    </tr>\n",
       "    <tr>\n",
       "      <th>3</th>\n",
       "      <td>1076863</td>\n",
       "      <td>1277178</td>\n",
       "      <td>10000</td>\n",
       "      <td>10000</td>\n",
       "      <td>10000.0</td>\n",
       "      <td>36</td>\n",
       "      <td>13.49%</td>\n",
       "      <td>339.31</td>\n",
       "      <td>C</td>\n",
       "      <td>C1</td>\n",
       "      <td>...</td>\n",
       "      <td>0.00</td>\n",
       "      <td>Jan-15</td>\n",
       "      <td>357.48</td>\n",
       "      <td>Apr-16</td>\n",
       "      <td>0.0</td>\n",
       "      <td>1</td>\n",
       "      <td>INDIVIDUAL</td>\n",
       "      <td>0.0</td>\n",
       "      <td>0.0</td>\n",
       "      <td>0.0</td>\n",
       "    </tr>\n",
       "    <tr>\n",
       "      <th>4</th>\n",
       "      <td>1075358</td>\n",
       "      <td>1311748</td>\n",
       "      <td>3000</td>\n",
       "      <td>3000</td>\n",
       "      <td>3000.0</td>\n",
       "      <td>60</td>\n",
       "      <td>12.69%</td>\n",
       "      <td>67.79</td>\n",
       "      <td>B</td>\n",
       "      <td>B5</td>\n",
       "      <td>...</td>\n",
       "      <td>0.00</td>\n",
       "      <td>May-16</td>\n",
       "      <td>67.79</td>\n",
       "      <td>May-16</td>\n",
       "      <td>0.0</td>\n",
       "      <td>1</td>\n",
       "      <td>INDIVIDUAL</td>\n",
       "      <td>0.0</td>\n",
       "      <td>0.0</td>\n",
       "      <td>0.0</td>\n",
       "    </tr>\n",
       "  </tbody>\n",
       "</table>\n",
       "<p>5 rows × 52 columns</p>\n",
       "</div>"
      ],
      "text/plain": [
       "        id  member_id  loan_amnt  funded_amnt  funded_amnt_inv  term int_rate  \\\n",
       "0  1077501    1296599       5000         5000           4975.0    36   10.65%   \n",
       "1  1077430    1314167       2500         2500           2500.0    60   15.27%   \n",
       "2  1077175    1313524       2400         2400           2400.0    36   15.96%   \n",
       "3  1076863    1277178      10000        10000          10000.0    36   13.49%   \n",
       "4  1075358    1311748       3000         3000           3000.0    60   12.69%   \n",
       "\n",
       "   installment grade sub_grade  ... collection_recovery_fee last_pymnt_d  \\\n",
       "0       162.87     B        B2  ...                    0.00       Jan-15   \n",
       "1        59.83     C        C4  ...                    1.11       Apr-13   \n",
       "2        84.33     C        C5  ...                    0.00       Jun-14   \n",
       "3       339.31     C        C1  ...                    0.00       Jan-15   \n",
       "4        67.79     B        B5  ...                    0.00       May-16   \n",
       "\n",
       "  last_pymnt_amnt  last_credit_pull_d collections_12_mths_ex_med policy_code  \\\n",
       "0          171.62              May-16                        0.0           1   \n",
       "1          119.66              Sep-13                        0.0           1   \n",
       "2          649.91              May-16                        0.0           1   \n",
       "3          357.48              Apr-16                        0.0           1   \n",
       "4           67.79              May-16                        0.0           1   \n",
       "\n",
       "  application_type chargeoff_within_12_mths pub_rec_bankruptcies tax_liens  \n",
       "0       INDIVIDUAL                      0.0                  0.0       0.0  \n",
       "1       INDIVIDUAL                      0.0                  0.0       0.0  \n",
       "2       INDIVIDUAL                      0.0                  0.0       0.0  \n",
       "3       INDIVIDUAL                      0.0                  0.0       0.0  \n",
       "4       INDIVIDUAL                      0.0                  0.0       0.0  \n",
       "\n",
       "[5 rows x 52 columns]"
      ]
     },
     "execution_count": 10,
     "metadata": {},
     "output_type": "execute_result"
    }
   ],
   "source": [
    "# Convert term into int\n",
    "\n",
    "loan_data.term = loan_data.term.apply(lambda x: int(x.replace(' months', '')))\n",
    "loan_data.head()"
   ]
  },
  {
   "cell_type": "markdown",
   "id": "14188e88-cd4c-4c89-9411-386a7896451e",
   "metadata": {},
   "source": [
    "#### Remove % from columns int_rate and revol_util"
   ]
  },
  {
   "cell_type": "code",
   "execution_count": 11,
   "id": "6747f004-04ff-4b5c-bc90-0db81edc8b6f",
   "metadata": {},
   "outputs": [
    {
     "name": "stdout",
     "output_type": "stream",
     "text": [
      "Before removal\n"
     ]
    },
    {
     "data": {
      "text/html": [
       "<div>\n",
       "<style scoped>\n",
       "    .dataframe tbody tr th:only-of-type {\n",
       "        vertical-align: middle;\n",
       "    }\n",
       "\n",
       "    .dataframe tbody tr th {\n",
       "        vertical-align: top;\n",
       "    }\n",
       "\n",
       "    .dataframe thead th {\n",
       "        text-align: right;\n",
       "    }\n",
       "</style>\n",
       "<table border=\"1\" class=\"dataframe\">\n",
       "  <thead>\n",
       "    <tr style=\"text-align: right;\">\n",
       "      <th></th>\n",
       "      <th>id</th>\n",
       "      <th>member_id</th>\n",
       "      <th>loan_amnt</th>\n",
       "      <th>funded_amnt</th>\n",
       "      <th>funded_amnt_inv</th>\n",
       "      <th>term</th>\n",
       "      <th>int_rate</th>\n",
       "      <th>installment</th>\n",
       "      <th>grade</th>\n",
       "      <th>sub_grade</th>\n",
       "      <th>...</th>\n",
       "      <th>collection_recovery_fee</th>\n",
       "      <th>last_pymnt_d</th>\n",
       "      <th>last_pymnt_amnt</th>\n",
       "      <th>last_credit_pull_d</th>\n",
       "      <th>collections_12_mths_ex_med</th>\n",
       "      <th>policy_code</th>\n",
       "      <th>application_type</th>\n",
       "      <th>chargeoff_within_12_mths</th>\n",
       "      <th>pub_rec_bankruptcies</th>\n",
       "      <th>tax_liens</th>\n",
       "    </tr>\n",
       "  </thead>\n",
       "  <tbody>\n",
       "    <tr>\n",
       "      <th>0</th>\n",
       "      <td>1077501</td>\n",
       "      <td>1296599</td>\n",
       "      <td>5000</td>\n",
       "      <td>5000</td>\n",
       "      <td>4975.0</td>\n",
       "      <td>36</td>\n",
       "      <td>10.65%</td>\n",
       "      <td>162.87</td>\n",
       "      <td>B</td>\n",
       "      <td>B2</td>\n",
       "      <td>...</td>\n",
       "      <td>0.00</td>\n",
       "      <td>Jan-15</td>\n",
       "      <td>171.62</td>\n",
       "      <td>May-16</td>\n",
       "      <td>0.0</td>\n",
       "      <td>1</td>\n",
       "      <td>INDIVIDUAL</td>\n",
       "      <td>0.0</td>\n",
       "      <td>0.0</td>\n",
       "      <td>0.0</td>\n",
       "    </tr>\n",
       "    <tr>\n",
       "      <th>1</th>\n",
       "      <td>1077430</td>\n",
       "      <td>1314167</td>\n",
       "      <td>2500</td>\n",
       "      <td>2500</td>\n",
       "      <td>2500.0</td>\n",
       "      <td>60</td>\n",
       "      <td>15.27%</td>\n",
       "      <td>59.83</td>\n",
       "      <td>C</td>\n",
       "      <td>C4</td>\n",
       "      <td>...</td>\n",
       "      <td>1.11</td>\n",
       "      <td>Apr-13</td>\n",
       "      <td>119.66</td>\n",
       "      <td>Sep-13</td>\n",
       "      <td>0.0</td>\n",
       "      <td>1</td>\n",
       "      <td>INDIVIDUAL</td>\n",
       "      <td>0.0</td>\n",
       "      <td>0.0</td>\n",
       "      <td>0.0</td>\n",
       "    </tr>\n",
       "    <tr>\n",
       "      <th>2</th>\n",
       "      <td>1077175</td>\n",
       "      <td>1313524</td>\n",
       "      <td>2400</td>\n",
       "      <td>2400</td>\n",
       "      <td>2400.0</td>\n",
       "      <td>36</td>\n",
       "      <td>15.96%</td>\n",
       "      <td>84.33</td>\n",
       "      <td>C</td>\n",
       "      <td>C5</td>\n",
       "      <td>...</td>\n",
       "      <td>0.00</td>\n",
       "      <td>Jun-14</td>\n",
       "      <td>649.91</td>\n",
       "      <td>May-16</td>\n",
       "      <td>0.0</td>\n",
       "      <td>1</td>\n",
       "      <td>INDIVIDUAL</td>\n",
       "      <td>0.0</td>\n",
       "      <td>0.0</td>\n",
       "      <td>0.0</td>\n",
       "    </tr>\n",
       "    <tr>\n",
       "      <th>3</th>\n",
       "      <td>1076863</td>\n",
       "      <td>1277178</td>\n",
       "      <td>10000</td>\n",
       "      <td>10000</td>\n",
       "      <td>10000.0</td>\n",
       "      <td>36</td>\n",
       "      <td>13.49%</td>\n",
       "      <td>339.31</td>\n",
       "      <td>C</td>\n",
       "      <td>C1</td>\n",
       "      <td>...</td>\n",
       "      <td>0.00</td>\n",
       "      <td>Jan-15</td>\n",
       "      <td>357.48</td>\n",
       "      <td>Apr-16</td>\n",
       "      <td>0.0</td>\n",
       "      <td>1</td>\n",
       "      <td>INDIVIDUAL</td>\n",
       "      <td>0.0</td>\n",
       "      <td>0.0</td>\n",
       "      <td>0.0</td>\n",
       "    </tr>\n",
       "    <tr>\n",
       "      <th>4</th>\n",
       "      <td>1075358</td>\n",
       "      <td>1311748</td>\n",
       "      <td>3000</td>\n",
       "      <td>3000</td>\n",
       "      <td>3000.0</td>\n",
       "      <td>60</td>\n",
       "      <td>12.69%</td>\n",
       "      <td>67.79</td>\n",
       "      <td>B</td>\n",
       "      <td>B5</td>\n",
       "      <td>...</td>\n",
       "      <td>0.00</td>\n",
       "      <td>May-16</td>\n",
       "      <td>67.79</td>\n",
       "      <td>May-16</td>\n",
       "      <td>0.0</td>\n",
       "      <td>1</td>\n",
       "      <td>INDIVIDUAL</td>\n",
       "      <td>0.0</td>\n",
       "      <td>0.0</td>\n",
       "      <td>0.0</td>\n",
       "    </tr>\n",
       "  </tbody>\n",
       "</table>\n",
       "<p>5 rows × 52 columns</p>\n",
       "</div>"
      ],
      "text/plain": [
       "        id  member_id  loan_amnt  funded_amnt  funded_amnt_inv  term int_rate  \\\n",
       "0  1077501    1296599       5000         5000           4975.0    36   10.65%   \n",
       "1  1077430    1314167       2500         2500           2500.0    60   15.27%   \n",
       "2  1077175    1313524       2400         2400           2400.0    36   15.96%   \n",
       "3  1076863    1277178      10000        10000          10000.0    36   13.49%   \n",
       "4  1075358    1311748       3000         3000           3000.0    60   12.69%   \n",
       "\n",
       "   installment grade sub_grade  ... collection_recovery_fee last_pymnt_d  \\\n",
       "0       162.87     B        B2  ...                    0.00       Jan-15   \n",
       "1        59.83     C        C4  ...                    1.11       Apr-13   \n",
       "2        84.33     C        C5  ...                    0.00       Jun-14   \n",
       "3       339.31     C        C1  ...                    0.00       Jan-15   \n",
       "4        67.79     B        B5  ...                    0.00       May-16   \n",
       "\n",
       "  last_pymnt_amnt  last_credit_pull_d collections_12_mths_ex_med policy_code  \\\n",
       "0          171.62              May-16                        0.0           1   \n",
       "1          119.66              Sep-13                        0.0           1   \n",
       "2          649.91              May-16                        0.0           1   \n",
       "3          357.48              Apr-16                        0.0           1   \n",
       "4           67.79              May-16                        0.0           1   \n",
       "\n",
       "  application_type chargeoff_within_12_mths pub_rec_bankruptcies tax_liens  \n",
       "0       INDIVIDUAL                      0.0                  0.0       0.0  \n",
       "1       INDIVIDUAL                      0.0                  0.0       0.0  \n",
       "2       INDIVIDUAL                      0.0                  0.0       0.0  \n",
       "3       INDIVIDUAL                      0.0                  0.0       0.0  \n",
       "4       INDIVIDUAL                      0.0                  0.0       0.0  \n",
       "\n",
       "[5 rows x 52 columns]"
      ]
     },
     "execution_count": 11,
     "metadata": {},
     "output_type": "execute_result"
    }
   ],
   "source": [
    "# Remove % from columns int_rate and revol_util\n",
    "print('Before removal')\n",
    "loan_data.head()"
   ]
  },
  {
   "cell_type": "code",
   "execution_count": 12,
   "id": "f523b182-1662-4fdc-865f-72c125ab75be",
   "metadata": {},
   "outputs": [
    {
     "name": "stdout",
     "output_type": "stream",
     "text": [
      "After removal\n"
     ]
    },
    {
     "data": {
      "text/html": [
       "<div>\n",
       "<style scoped>\n",
       "    .dataframe tbody tr th:only-of-type {\n",
       "        vertical-align: middle;\n",
       "    }\n",
       "\n",
       "    .dataframe tbody tr th {\n",
       "        vertical-align: top;\n",
       "    }\n",
       "\n",
       "    .dataframe thead th {\n",
       "        text-align: right;\n",
       "    }\n",
       "</style>\n",
       "<table border=\"1\" class=\"dataframe\">\n",
       "  <thead>\n",
       "    <tr style=\"text-align: right;\">\n",
       "      <th></th>\n",
       "      <th>id</th>\n",
       "      <th>member_id</th>\n",
       "      <th>loan_amnt</th>\n",
       "      <th>funded_amnt</th>\n",
       "      <th>funded_amnt_inv</th>\n",
       "      <th>term</th>\n",
       "      <th>int_rate</th>\n",
       "      <th>installment</th>\n",
       "      <th>grade</th>\n",
       "      <th>sub_grade</th>\n",
       "      <th>...</th>\n",
       "      <th>collection_recovery_fee</th>\n",
       "      <th>last_pymnt_d</th>\n",
       "      <th>last_pymnt_amnt</th>\n",
       "      <th>last_credit_pull_d</th>\n",
       "      <th>collections_12_mths_ex_med</th>\n",
       "      <th>policy_code</th>\n",
       "      <th>application_type</th>\n",
       "      <th>chargeoff_within_12_mths</th>\n",
       "      <th>pub_rec_bankruptcies</th>\n",
       "      <th>tax_liens</th>\n",
       "    </tr>\n",
       "  </thead>\n",
       "  <tbody>\n",
       "    <tr>\n",
       "      <th>0</th>\n",
       "      <td>1077501</td>\n",
       "      <td>1296599</td>\n",
       "      <td>5000</td>\n",
       "      <td>5000</td>\n",
       "      <td>4975.0</td>\n",
       "      <td>36</td>\n",
       "      <td>10.65</td>\n",
       "      <td>162.87</td>\n",
       "      <td>B</td>\n",
       "      <td>B2</td>\n",
       "      <td>...</td>\n",
       "      <td>0.00</td>\n",
       "      <td>Jan-15</td>\n",
       "      <td>171.62</td>\n",
       "      <td>May-16</td>\n",
       "      <td>0.0</td>\n",
       "      <td>1</td>\n",
       "      <td>INDIVIDUAL</td>\n",
       "      <td>0.0</td>\n",
       "      <td>0.0</td>\n",
       "      <td>0.0</td>\n",
       "    </tr>\n",
       "    <tr>\n",
       "      <th>1</th>\n",
       "      <td>1077430</td>\n",
       "      <td>1314167</td>\n",
       "      <td>2500</td>\n",
       "      <td>2500</td>\n",
       "      <td>2500.0</td>\n",
       "      <td>60</td>\n",
       "      <td>15.27</td>\n",
       "      <td>59.83</td>\n",
       "      <td>C</td>\n",
       "      <td>C4</td>\n",
       "      <td>...</td>\n",
       "      <td>1.11</td>\n",
       "      <td>Apr-13</td>\n",
       "      <td>119.66</td>\n",
       "      <td>Sep-13</td>\n",
       "      <td>0.0</td>\n",
       "      <td>1</td>\n",
       "      <td>INDIVIDUAL</td>\n",
       "      <td>0.0</td>\n",
       "      <td>0.0</td>\n",
       "      <td>0.0</td>\n",
       "    </tr>\n",
       "    <tr>\n",
       "      <th>2</th>\n",
       "      <td>1077175</td>\n",
       "      <td>1313524</td>\n",
       "      <td>2400</td>\n",
       "      <td>2400</td>\n",
       "      <td>2400.0</td>\n",
       "      <td>36</td>\n",
       "      <td>15.96</td>\n",
       "      <td>84.33</td>\n",
       "      <td>C</td>\n",
       "      <td>C5</td>\n",
       "      <td>...</td>\n",
       "      <td>0.00</td>\n",
       "      <td>Jun-14</td>\n",
       "      <td>649.91</td>\n",
       "      <td>May-16</td>\n",
       "      <td>0.0</td>\n",
       "      <td>1</td>\n",
       "      <td>INDIVIDUAL</td>\n",
       "      <td>0.0</td>\n",
       "      <td>0.0</td>\n",
       "      <td>0.0</td>\n",
       "    </tr>\n",
       "    <tr>\n",
       "      <th>3</th>\n",
       "      <td>1076863</td>\n",
       "      <td>1277178</td>\n",
       "      <td>10000</td>\n",
       "      <td>10000</td>\n",
       "      <td>10000.0</td>\n",
       "      <td>36</td>\n",
       "      <td>13.49</td>\n",
       "      <td>339.31</td>\n",
       "      <td>C</td>\n",
       "      <td>C1</td>\n",
       "      <td>...</td>\n",
       "      <td>0.00</td>\n",
       "      <td>Jan-15</td>\n",
       "      <td>357.48</td>\n",
       "      <td>Apr-16</td>\n",
       "      <td>0.0</td>\n",
       "      <td>1</td>\n",
       "      <td>INDIVIDUAL</td>\n",
       "      <td>0.0</td>\n",
       "      <td>0.0</td>\n",
       "      <td>0.0</td>\n",
       "    </tr>\n",
       "    <tr>\n",
       "      <th>4</th>\n",
       "      <td>1075358</td>\n",
       "      <td>1311748</td>\n",
       "      <td>3000</td>\n",
       "      <td>3000</td>\n",
       "      <td>3000.0</td>\n",
       "      <td>60</td>\n",
       "      <td>12.69</td>\n",
       "      <td>67.79</td>\n",
       "      <td>B</td>\n",
       "      <td>B5</td>\n",
       "      <td>...</td>\n",
       "      <td>0.00</td>\n",
       "      <td>May-16</td>\n",
       "      <td>67.79</td>\n",
       "      <td>May-16</td>\n",
       "      <td>0.0</td>\n",
       "      <td>1</td>\n",
       "      <td>INDIVIDUAL</td>\n",
       "      <td>0.0</td>\n",
       "      <td>0.0</td>\n",
       "      <td>0.0</td>\n",
       "    </tr>\n",
       "  </tbody>\n",
       "</table>\n",
       "<p>5 rows × 52 columns</p>\n",
       "</div>"
      ],
      "text/plain": [
       "        id  member_id  loan_amnt  funded_amnt  funded_amnt_inv  term  \\\n",
       "0  1077501    1296599       5000         5000           4975.0    36   \n",
       "1  1077430    1314167       2500         2500           2500.0    60   \n",
       "2  1077175    1313524       2400         2400           2400.0    36   \n",
       "3  1076863    1277178      10000        10000          10000.0    36   \n",
       "4  1075358    1311748       3000         3000           3000.0    60   \n",
       "\n",
       "   int_rate  installment grade sub_grade  ... collection_recovery_fee  \\\n",
       "0     10.65       162.87     B        B2  ...                    0.00   \n",
       "1     15.27        59.83     C        C4  ...                    1.11   \n",
       "2     15.96        84.33     C        C5  ...                    0.00   \n",
       "3     13.49       339.31     C        C1  ...                    0.00   \n",
       "4     12.69        67.79     B        B5  ...                    0.00   \n",
       "\n",
       "  last_pymnt_d last_pymnt_amnt  last_credit_pull_d collections_12_mths_ex_med  \\\n",
       "0       Jan-15          171.62              May-16                        0.0   \n",
       "1       Apr-13          119.66              Sep-13                        0.0   \n",
       "2       Jun-14          649.91              May-16                        0.0   \n",
       "3       Jan-15          357.48              Apr-16                        0.0   \n",
       "4       May-16           67.79              May-16                        0.0   \n",
       "\n",
       "  policy_code application_type chargeoff_within_12_mths pub_rec_bankruptcies  \\\n",
       "0           1       INDIVIDUAL                      0.0                  0.0   \n",
       "1           1       INDIVIDUAL                      0.0                  0.0   \n",
       "2           1       INDIVIDUAL                      0.0                  0.0   \n",
       "3           1       INDIVIDUAL                      0.0                  0.0   \n",
       "4           1       INDIVIDUAL                      0.0                  0.0   \n",
       "\n",
       "  tax_liens  \n",
       "0       0.0  \n",
       "1       0.0  \n",
       "2       0.0  \n",
       "3       0.0  \n",
       "4       0.0  \n",
       "\n",
       "[5 rows x 52 columns]"
      ]
     },
     "execution_count": 12,
     "metadata": {},
     "output_type": "execute_result"
    }
   ],
   "source": [
    "\n",
    "loan_data['int_rate'] = loan_data['int_rate'].str.rstrip('%').astype(float)\n",
    "loan_data['revol_util'] = loan_data['revol_util'].str.rstrip('%').astype(float)\n",
    "print('After removal')\n",
    "loan_data.head()"
   ]
  },
  {
   "cell_type": "code",
   "execution_count": 13,
   "id": "44e78ebe-67ef-4e6f-a42a-6501e30908c2",
   "metadata": {},
   "outputs": [
    {
     "name": "stdout",
     "output_type": "stream",
     "text": [
      "6\n"
     ]
    }
   ],
   "source": [
    "# Checking for missing values across the rows\n",
    "print((loan_data.isnull().sum(axis=1)).max())"
   ]
  },
  {
   "cell_type": "markdown",
   "id": "9331e10b-618f-4610-987b-8ff73cd6b0b9",
   "metadata": {},
   "source": [
    "As the max number of missing value in row is very low compared to the count of columns(54 after removing irrelevant columns), we can move ahead with process as the impact is insignificant."
   ]
  },
  {
   "cell_type": "code",
   "execution_count": 14,
   "id": "253d618f-a665-4e9d-8016-5f5666d62f23",
   "metadata": {},
   "outputs": [
    {
     "name": "stdout",
     "output_type": "stream",
     "text": [
      "Index(['id', 'member_id', 'loan_amnt', 'funded_amnt', 'funded_amnt_inv',\n",
      "       'term', 'int_rate', 'installment', 'grade', 'sub_grade', 'emp_title',\n",
      "       'emp_length', 'home_ownership', 'annual_inc', 'verification_status',\n",
      "       'issue_d', 'loan_status', 'pymnt_plan', 'url', 'desc', 'purpose',\n",
      "       'title', 'zip_code', 'addr_state', 'dti', 'delinq_2yrs',\n",
      "       'earliest_cr_line', 'inq_last_6mths', 'open_acc', 'pub_rec',\n",
      "       'revol_bal', 'revol_util', 'total_acc', 'initial_list_status',\n",
      "       'out_prncp', 'out_prncp_inv', 'total_pymnt', 'total_pymnt_inv',\n",
      "       'total_rec_prncp', 'total_rec_int', 'total_rec_late_fee', 'recoveries',\n",
      "       'collection_recovery_fee', 'last_pymnt_d', 'last_pymnt_amnt',\n",
      "       'last_credit_pull_d', 'collections_12_mths_ex_med', 'policy_code',\n",
      "       'application_type', 'chargeoff_within_12_mths', 'pub_rec_bankruptcies',\n",
      "       'tax_liens'],\n",
      "      dtype='object')\n"
     ]
    }
   ],
   "source": [
    "print(loan_data.columns)\n"
   ]
  },
  {
   "cell_type": "markdown",
   "id": "6ea8a73c-8a55-4d8d-8c79-633d5837f5d6",
   "metadata": {},
   "source": [
    "#### Removing the irrelevant columns\n"
   ]
  },
  {
   "cell_type": "code",
   "execution_count": 15,
   "id": "85922b68-fa18-4e61-9b8c-3c1231a47418",
   "metadata": {},
   "outputs": [
    {
     "name": "stdout",
     "output_type": "stream",
     "text": [
      "(39717, 24)\n"
     ]
    }
   ],
   "source": [
    "# Removing irrelevant columns which are calculated after loan is approved thus have no relevance to the analysis\n",
    "## The columns removed are customer behaviour variables and are calculated after thus they cannot be used as input for the analysis\n",
    "loan_data=loan_data.drop(['delinq_2yrs','earliest_cr_line','inq_last_6mths','open_acc','pub_rec','revol_bal','revol_util','total_acc','out_prncp','out_prncp_inv','total_pymnt','total_pymnt_inv','total_rec_prncp','total_rec_int','total_rec_late_fee','recoveries','collection_recovery_fee','last_pymnt_d','last_pymnt_amnt','last_credit_pull_d','application_type'],axis=1)\n",
    "# Removing desc,emp_title,desc as they have no significance to the analysis as they are random varaibles and hold infomration which might not have significance to the conclusions\n",
    "loan_data=loan_data.drop(['title','emp_title','desc','url'],axis=1)\n",
    "# Removing zip_code as it is a masked data and cannot be used as input for the analysis\n",
    "loan_data=loan_data.drop(['zip_code'],axis=1)\n",
    "# Removing member_id as it is a duplicate index column and is not required for the analysis\n",
    "loan_data=loan_data.drop(['member_id'],axis=1)\n",
    "# Removing funded_amnt_inv as it is a internal data and is calculated after loan approval thus cannot be used as input for the analysis\n",
    "loan_data=loan_data.drop(['funded_amnt_inv'],axis=1)\n",
    "# Shape of the dataframe after removing columns\n",
    "print(loan_data.shape)"
   ]
  },
  {
   "cell_type": "markdown",
   "id": "d5cf5ca7-bd09-4aba-be63-4049b328c444",
   "metadata": {},
   "source": [
    "Removed the above columns as they are customer behavior variables and are not available at time of decision and hence not useful for analysis."
   ]
  },
  {
   "cell_type": "markdown",
   "id": "42e1f7dd-45ec-4aae-a780-e855dc731ed1",
   "metadata": {},
   "source": [
    "#### Checking columns for irrelevant data which has no impact to analysis(having very few unqiue values)\n"
   ]
  },
  {
   "cell_type": "code",
   "execution_count": 16,
   "id": "dcd84a3f-3f60-45e9-a1f0-8ff1cc01186c",
   "metadata": {},
   "outputs": [
    {
     "name": "stdout",
     "output_type": "stream",
     "text": [
      "tax_liens                         1\n",
      "chargeoff_within_12_mths          1\n",
      "policy_code                       1\n",
      "collections_12_mths_ex_med        1\n",
      "initial_list_status               1\n",
      "pymnt_plan                        1\n",
      "term                              2\n",
      "loan_status                       3\n",
      "pub_rec_bankruptcies              3\n",
      "verification_status               3\n",
      "home_ownership                    5\n",
      "grade                             7\n",
      "emp_length                       11\n",
      "purpose                          14\n",
      "sub_grade                        35\n",
      "addr_state                       50\n",
      "issue_d                          55\n",
      "int_rate                        371\n",
      "loan_amnt                       885\n",
      "funded_amnt                    1041\n",
      "dti                            2868\n",
      "annual_inc                     5318\n",
      "installment                   15383\n",
      "id                            39717\n",
      "dtype: int64\n"
     ]
    }
   ],
   "source": [
    "# Checking columns for irrelevant data which has no impact to analysis(having very few unqiue values)\n",
    "print(loan_data.nunique().sort_values(ascending=True))"
   ]
  },
  {
   "cell_type": "markdown",
   "id": "f7d37935-6d3e-45f3-b8c2-886ac080f5dc",
   "metadata": {},
   "source": [
    "As there are many columns with 1 unique value and null values, we have removed them as they are not relevant to the analysis."
   ]
  },
  {
   "cell_type": "code",
   "execution_count": 17,
   "id": "cd41a8aa-674f-4bf5-a652-c00bcd91841e",
   "metadata": {},
   "outputs": [
    {
     "name": "stdout",
     "output_type": "stream",
     "text": [
      "(39717, 18)\n"
     ]
    }
   ],
   "source": [
    "# Removing irrelevant columns which contain 1 unique value\n",
    "loan_data = loan_data.loc[:,loan_data.nunique()>1]\n",
    "# Shape of the dataframe after removing columns\n",
    "print(loan_data.shape)"
   ]
  },
  {
   "cell_type": "markdown",
   "id": "8567bcab-ccdb-4887-bfbd-74708fe7a285",
   "metadata": {},
   "source": [
    "#### Removing and fixing the null values\n"
   ]
  },
  {
   "cell_type": "code",
   "execution_count": 18,
   "id": "3cc61fc0-ad3d-47fe-afbc-fa370c2f3d24",
   "metadata": {},
   "outputs": [
    {
     "name": "stdout",
     "output_type": "stream",
     "text": [
      "emp_length              1075\n",
      "pub_rec_bankruptcies     697\n",
      "annual_inc                 0\n",
      "dti                        0\n",
      "addr_state                 0\n",
      "purpose                    0\n",
      "loan_status                0\n",
      "issue_d                    0\n",
      "verification_status        0\n",
      "id                         0\n",
      "loan_amnt                  0\n",
      "sub_grade                  0\n",
      "grade                      0\n",
      "installment                0\n",
      "int_rate                   0\n",
      "term                       0\n",
      "funded_amnt                0\n",
      "home_ownership             0\n",
      "dtype: int64\n"
     ]
    }
   ],
   "source": [
    "# Checking for missing values across the dataframe\n",
    "print(loan_data.isnull().sum().sort_values(ascending=False))"
   ]
  },
  {
   "cell_type": "raw",
   "id": "a4a08944-fac4-41d0-955c-a50b172b544b",
   "metadata": {},
   "source": [
    "emp_length              1075\n",
    "pub_rec_bankruptcies     697\n",
    "\n",
    "The above columns has null values which can be removed or fixed depending on the relevance of the column to objective of the analysis."
   ]
  },
  {
   "cell_type": "code",
   "execution_count": 19,
   "id": "b2300289-06e3-4757-aa78-dee5d6a6cd22",
   "metadata": {},
   "outputs": [
    {
     "name": "stdout",
     "output_type": "stream",
     "text": [
      "emp_length\n",
      "10+ years    8879\n",
      "< 1 year     4583\n",
      "2 years      4388\n",
      "3 years      4095\n",
      "4 years      3436\n",
      "5 years      3282\n",
      "1 year       3240\n",
      "6 years      2229\n",
      "7 years      1773\n",
      "8 years      1479\n",
      "9 years      1258\n",
      "Name: count, dtype: int64\n"
     ]
    }
   ],
   "source": [
    "# Checking values in emp_length columns for feasibility of inserting null values\n",
    "print(loan_data.emp_length.value_counts())"
   ]
  },
  {
   "cell_type": "code",
   "execution_count": 20,
   "id": "c73a5eb3-481a-4b04-ae8e-f73e5d59d961",
   "metadata": {},
   "outputs": [
    {
     "name": "stdout",
     "output_type": "stream",
     "text": [
      "pub_rec_bankruptcies\n",
      "0.0    37339\n",
      "1.0     1674\n",
      "2.0        7\n",
      "Name: count, dtype: int64\n"
     ]
    }
   ],
   "source": [
    "# Checking values in pub_rec_bankruptcies columns for feasibility of inserting null values\n",
    "print(loan_data.pub_rec_bankruptcies.value_counts())"
   ]
  },
  {
   "cell_type": "code",
   "execution_count": 21,
   "id": "61ab5a35-8a8c-43cd-bee8-0528f165e0d6",
   "metadata": {},
   "outputs": [
    {
     "name": "stdout",
     "output_type": "stream",
     "text": [
      "(38642, 18)\n"
     ]
    }
   ],
   "source": [
    "# Removing null values in emp_title and emp_length columns\n",
    "loan_data = loan_data.dropna(subset=['emp_length'])\n",
    "# Shape of the dataframe after removing columns\n",
    "print(loan_data.shape)"
   ]
  },
  {
   "cell_type": "code",
   "execution_count": 22,
   "id": "9c9a6f2c-084e-4a59-b1cd-b2c8dcf746b3",
   "metadata": {},
   "outputs": [],
   "source": [
    "# Inserting 0 for null values in pub_rec_bankruptcies column\n",
    "loan_data.fillna({'pub_rec_bankruptcies': 0},inplace=True)"
   ]
  },
  {
   "cell_type": "code",
   "execution_count": 23,
   "id": "ac8be70a-15d6-41de-a763-0dd633f2634a",
   "metadata": {},
   "outputs": [
    {
     "name": "stdout",
     "output_type": "stream",
     "text": [
      "id                      0\n",
      "loan_amnt               0\n",
      "funded_amnt             0\n",
      "term                    0\n",
      "int_rate                0\n",
      "installment             0\n",
      "grade                   0\n",
      "sub_grade               0\n",
      "emp_length              0\n",
      "home_ownership          0\n",
      "annual_inc              0\n",
      "verification_status     0\n",
      "issue_d                 0\n",
      "loan_status             0\n",
      "purpose                 0\n",
      "addr_state              0\n",
      "dti                     0\n",
      "pub_rec_bankruptcies    0\n",
      "dtype: int64\n"
     ]
    }
   ],
   "source": [
    "# Checking for missing values across the dataframe\n",
    "print(loan_data.isnull().sum())"
   ]
  },
  {
   "cell_type": "markdown",
   "id": "d8822820-f523-46c9-806d-e806b48e8065",
   "metadata": {},
   "source": [
    "#### Removing duplicate rows from the dataframe\n"
   ]
  },
  {
   "cell_type": "code",
   "execution_count": 24,
   "id": "6787ced9-9e1f-4a63-a85f-cd593ef6ca4a",
   "metadata": {},
   "outputs": [
    {
     "name": "stdout",
     "output_type": "stream",
     "text": [
      "(38642, 18)\n"
     ]
    }
   ],
   "source": [
    "# Removing duplicate rows in the dataframe\n",
    "loan_data = loan_data.drop_duplicates()\n",
    "# Shape of the dataframe after removing duplicate rows\n",
    "print(loan_data.shape)\n",
    "\n",
    "# No duplicate rows found in the dataframe"
   ]
  },
  {
   "cell_type": "markdown",
   "id": "f3db37c6-131c-427f-8e53-0df845271a38",
   "metadata": {},
   "source": [
    "#### Correcting Data Types and Deriving New Columns\n"
   ]
  },
  {
   "cell_type": "code",
   "execution_count": 25,
   "id": "a36c4f05-18e3-4c38-8941-945d290733b0",
   "metadata": {},
   "outputs": [
    {
     "name": "stdout",
     "output_type": "stream",
     "text": [
      "<class 'pandas.core.frame.DataFrame'>\n",
      "Index: 38642 entries, 0 to 39716\n",
      "Data columns (total 18 columns):\n",
      " #   Column                Non-Null Count  Dtype  \n",
      "---  ------                --------------  -----  \n",
      " 0   id                    38642 non-null  int64  \n",
      " 1   loan_amnt             38642 non-null  int64  \n",
      " 2   funded_amnt           38642 non-null  int64  \n",
      " 3   term                  38642 non-null  int64  \n",
      " 4   int_rate              38642 non-null  float64\n",
      " 5   installment           38642 non-null  float64\n",
      " 6   grade                 38642 non-null  object \n",
      " 7   sub_grade             38642 non-null  object \n",
      " 8   emp_length            38642 non-null  object \n",
      " 9   home_ownership        38642 non-null  object \n",
      " 10  annual_inc            38642 non-null  float64\n",
      " 11  verification_status   38642 non-null  object \n",
      " 12  issue_d               38642 non-null  object \n",
      " 13  loan_status           38642 non-null  object \n",
      " 14  purpose               38642 non-null  object \n",
      " 15  addr_state            38642 non-null  object \n",
      " 16  dti                   38642 non-null  float64\n",
      " 17  pub_rec_bankruptcies  38642 non-null  float64\n",
      "dtypes: float64(5), int64(4), object(9)\n",
      "memory usage: 5.6+ MB\n",
      "None\n"
     ]
    }
   ],
   "source": [
    "# Checking information about the dataframe\n",
    "print(loan_data.info())"
   ]
  },
  {
   "cell_type": "code",
   "execution_count": 26,
   "id": "d64b987d-2902-4034-a4c9-b8d470f502d7",
   "metadata": {},
   "outputs": [],
   "source": [
    "# Correcting data type and format for columns in the dataframe\n",
    "## Derving more columns with the conversion of data type\n",
    "loan_data.term = loan_data.term.apply(lambda x: int(str(x).replace(' months', '')) if isinstance(x, str) else x).astype(int)\n",
    "loan_data.grade=loan_data.grade.astype('category')\n",
    "loan_data.sub_grade=loan_data.sub_grade.astype('category')\n",
    "loan_data.emp_length=loan_data.emp_length.apply(lambda x: x.replace('years','').replace('+','').replace('< 1','0.5').replace('year','')).astype(float)\n",
    "loan_data.home_ownership=loan_data.home_ownership.astype('category')\n",
    "loan_data.verification_status=loan_data.verification_status.astype('category')\n",
    "loan_data.issue_d=pd.to_datetime(loan_data.issue_d,format='%b-%y')\n",
    "loan_data['issue_year']=pd.to_datetime(loan_data.issue_d,format='%b-%y').dt.year\n",
    "loan_data['issue_month']=pd.to_datetime(loan_data.issue_d,format='%b-%y').dt.month\n",
    "loan_data.purpose=loan_data.purpose.astype('category')\n",
    "loan_data.addr_state=loan_data.addr_state.astype('category')"
   ]
  },
  {
   "cell_type": "code",
   "execution_count": 27,
   "id": "27b3d832-cdc5-45ce-851c-7523d50ff247",
   "metadata": {},
   "outputs": [
    {
     "data": {
      "text/html": [
       "<div>\n",
       "<style scoped>\n",
       "    .dataframe tbody tr th:only-of-type {\n",
       "        vertical-align: middle;\n",
       "    }\n",
       "\n",
       "    .dataframe tbody tr th {\n",
       "        vertical-align: top;\n",
       "    }\n",
       "\n",
       "    .dataframe thead th {\n",
       "        text-align: right;\n",
       "    }\n",
       "</style>\n",
       "<table border=\"1\" class=\"dataframe\">\n",
       "  <thead>\n",
       "    <tr style=\"text-align: right;\">\n",
       "      <th></th>\n",
       "      <th>id</th>\n",
       "      <th>loan_amnt</th>\n",
       "      <th>funded_amnt</th>\n",
       "      <th>term</th>\n",
       "      <th>int_rate</th>\n",
       "      <th>installment</th>\n",
       "      <th>grade</th>\n",
       "      <th>sub_grade</th>\n",
       "      <th>emp_length</th>\n",
       "      <th>home_ownership</th>\n",
       "      <th>annual_inc</th>\n",
       "      <th>verification_status</th>\n",
       "      <th>issue_d</th>\n",
       "      <th>loan_status</th>\n",
       "      <th>purpose</th>\n",
       "      <th>addr_state</th>\n",
       "      <th>dti</th>\n",
       "      <th>pub_rec_bankruptcies</th>\n",
       "      <th>issue_year</th>\n",
       "      <th>issue_month</th>\n",
       "    </tr>\n",
       "  </thead>\n",
       "  <tbody>\n",
       "    <tr>\n",
       "      <th>0</th>\n",
       "      <td>1077501</td>\n",
       "      <td>5000</td>\n",
       "      <td>5000</td>\n",
       "      <td>36</td>\n",
       "      <td>10.65</td>\n",
       "      <td>162.87</td>\n",
       "      <td>B</td>\n",
       "      <td>B2</td>\n",
       "      <td>10.0</td>\n",
       "      <td>RENT</td>\n",
       "      <td>24000.0</td>\n",
       "      <td>Verified</td>\n",
       "      <td>2011-12-01</td>\n",
       "      <td>Fully Paid</td>\n",
       "      <td>credit_card</td>\n",
       "      <td>AZ</td>\n",
       "      <td>27.65</td>\n",
       "      <td>0.0</td>\n",
       "      <td>2011</td>\n",
       "      <td>12</td>\n",
       "    </tr>\n",
       "    <tr>\n",
       "      <th>1</th>\n",
       "      <td>1077430</td>\n",
       "      <td>2500</td>\n",
       "      <td>2500</td>\n",
       "      <td>60</td>\n",
       "      <td>15.27</td>\n",
       "      <td>59.83</td>\n",
       "      <td>C</td>\n",
       "      <td>C4</td>\n",
       "      <td>0.5</td>\n",
       "      <td>RENT</td>\n",
       "      <td>30000.0</td>\n",
       "      <td>Source Verified</td>\n",
       "      <td>2011-12-01</td>\n",
       "      <td>Charged Off</td>\n",
       "      <td>car</td>\n",
       "      <td>GA</td>\n",
       "      <td>1.00</td>\n",
       "      <td>0.0</td>\n",
       "      <td>2011</td>\n",
       "      <td>12</td>\n",
       "    </tr>\n",
       "    <tr>\n",
       "      <th>2</th>\n",
       "      <td>1077175</td>\n",
       "      <td>2400</td>\n",
       "      <td>2400</td>\n",
       "      <td>36</td>\n",
       "      <td>15.96</td>\n",
       "      <td>84.33</td>\n",
       "      <td>C</td>\n",
       "      <td>C5</td>\n",
       "      <td>10.0</td>\n",
       "      <td>RENT</td>\n",
       "      <td>12252.0</td>\n",
       "      <td>Not Verified</td>\n",
       "      <td>2011-12-01</td>\n",
       "      <td>Fully Paid</td>\n",
       "      <td>small_business</td>\n",
       "      <td>IL</td>\n",
       "      <td>8.72</td>\n",
       "      <td>0.0</td>\n",
       "      <td>2011</td>\n",
       "      <td>12</td>\n",
       "    </tr>\n",
       "    <tr>\n",
       "      <th>3</th>\n",
       "      <td>1076863</td>\n",
       "      <td>10000</td>\n",
       "      <td>10000</td>\n",
       "      <td>36</td>\n",
       "      <td>13.49</td>\n",
       "      <td>339.31</td>\n",
       "      <td>C</td>\n",
       "      <td>C1</td>\n",
       "      <td>10.0</td>\n",
       "      <td>RENT</td>\n",
       "      <td>49200.0</td>\n",
       "      <td>Source Verified</td>\n",
       "      <td>2011-12-01</td>\n",
       "      <td>Fully Paid</td>\n",
       "      <td>other</td>\n",
       "      <td>CA</td>\n",
       "      <td>20.00</td>\n",
       "      <td>0.0</td>\n",
       "      <td>2011</td>\n",
       "      <td>12</td>\n",
       "    </tr>\n",
       "    <tr>\n",
       "      <th>4</th>\n",
       "      <td>1075358</td>\n",
       "      <td>3000</td>\n",
       "      <td>3000</td>\n",
       "      <td>60</td>\n",
       "      <td>12.69</td>\n",
       "      <td>67.79</td>\n",
       "      <td>B</td>\n",
       "      <td>B5</td>\n",
       "      <td>1.0</td>\n",
       "      <td>RENT</td>\n",
       "      <td>80000.0</td>\n",
       "      <td>Source Verified</td>\n",
       "      <td>2011-12-01</td>\n",
       "      <td>Current</td>\n",
       "      <td>other</td>\n",
       "      <td>OR</td>\n",
       "      <td>17.94</td>\n",
       "      <td>0.0</td>\n",
       "      <td>2011</td>\n",
       "      <td>12</td>\n",
       "    </tr>\n",
       "  </tbody>\n",
       "</table>\n",
       "</div>"
      ],
      "text/plain": [
       "        id  loan_amnt  funded_amnt  term  int_rate  installment grade  \\\n",
       "0  1077501       5000         5000    36     10.65       162.87     B   \n",
       "1  1077430       2500         2500    60     15.27        59.83     C   \n",
       "2  1077175       2400         2400    36     15.96        84.33     C   \n",
       "3  1076863      10000        10000    36     13.49       339.31     C   \n",
       "4  1075358       3000         3000    60     12.69        67.79     B   \n",
       "\n",
       "  sub_grade  emp_length home_ownership  annual_inc verification_status  \\\n",
       "0        B2        10.0           RENT     24000.0            Verified   \n",
       "1        C4         0.5           RENT     30000.0     Source Verified   \n",
       "2        C5        10.0           RENT     12252.0        Not Verified   \n",
       "3        C1        10.0           RENT     49200.0     Source Verified   \n",
       "4        B5         1.0           RENT     80000.0     Source Verified   \n",
       "\n",
       "     issue_d  loan_status         purpose addr_state    dti  \\\n",
       "0 2011-12-01   Fully Paid     credit_card         AZ  27.65   \n",
       "1 2011-12-01  Charged Off             car         GA   1.00   \n",
       "2 2011-12-01   Fully Paid  small_business         IL   8.72   \n",
       "3 2011-12-01   Fully Paid           other         CA  20.00   \n",
       "4 2011-12-01      Current           other         OR  17.94   \n",
       "\n",
       "   pub_rec_bankruptcies  issue_year  issue_month  \n",
       "0                   0.0        2011           12  \n",
       "1                   0.0        2011           12  \n",
       "2                   0.0        2011           12  \n",
       "3                   0.0        2011           12  \n",
       "4                   0.0        2011           12  "
      ]
     },
     "execution_count": 27,
     "metadata": {},
     "output_type": "execute_result"
    }
   ],
   "source": [
    "# Setting decimal point limit for all data \n",
    "for x in loan_data.columns:\n",
    "    if(loan_data[x].dtype=='float64'):\n",
    "      loan_data[x]=loan_data[x].round(2)\n",
    "      \n",
    "loan_data.head()"
   ]
  },
  {
   "cell_type": "code",
   "execution_count": null,
   "id": "b828fc63-bf3c-4194-b2bb-f4f91129c39d",
   "metadata": {},
   "outputs": [],
   "source": []
  },
  {
   "cell_type": "code",
   "execution_count": 28,
   "id": "0cdc32ab-17bb-4b7f-bbc7-8baecddf54e1",
   "metadata": {},
   "outputs": [
    {
     "data": {
      "text/plain": [
       "loan_status\n",
       "Fully Paid     32145\n",
       "Charged Off     5399\n",
       "Name: count, dtype: int64"
      ]
     },
     "execution_count": 28,
     "metadata": {},
     "output_type": "execute_result"
    }
   ],
   "source": [
    "# Consider only rows where loan_status != Current as ongoing loans can't be used to determine credit worthiness\n",
    "\n",
    "loan_data = loan_data[loan_data['loan_status'] != 'Current']\n",
    "loan_data['loan_status'].value_counts()"
   ]
  },
  {
   "cell_type": "markdown",
   "id": "d22487f3-737f-41e2-936c-54ce778569e8",
   "metadata": {},
   "source": [
    "As the data has been cleaned, fixed and filtered as per requirement, we can select columns required for analysis and move ahead with the analysis."
   ]
  },
  {
   "cell_type": "code",
   "execution_count": 29,
   "id": "842ee4c2-ed84-417d-ba4b-c7bc132565b0",
   "metadata": {},
   "outputs": [
    {
     "data": {
      "text/plain": [
       "(37544, 17)"
      ]
     },
     "execution_count": 29,
     "metadata": {},
     "output_type": "execute_result"
    }
   ],
   "source": [
    "# selecting columns based on domain knowledge\n",
    "## Id, Loan Amount, Term of loan, Interest Rate, Grade, Sub Grade, Emp Length, Home Ownership, Verification Status, Annual Income, Loan Status,Purpose of Loan, State provided by burrower, DTI ratio, Number of public record bankruptcies and derived columns of Issue month and year\n",
    "loan_data = loan_data[['id','loan_amnt','term','int_rate','grade','sub_grade','emp_length','home_ownership','verification_status','annual_inc','loan_status','purpose','addr_state','dti','pub_rec_bankruptcies','issue_year','issue_month']]\n",
    "# Shape of the dataframe after removing columns\n",
    "loan_data.shape"
   ]
  },
  {
   "cell_type": "code",
   "execution_count": 30,
   "id": "6049e09d-92a9-4162-bef3-04ae2c00638e",
   "metadata": {},
   "outputs": [],
   "source": [
    "# Divding the column as per categorical and numerical\n",
    "cat_cols = ['term','grade','sub_grade','emp_length','home_ownership','verification_status','purpose','addr_state']\n",
    "cont_cols=['loan_amnt','int_rate','annual_inc','dti','pub_rec_bankruptcies','issue_year','issue_month']\n",
    "id_cols=['id']\n",
    "result_cols=['loan_status']"
   ]
  },
  {
   "cell_type": "code",
   "execution_count": null,
   "id": "9885ffa1-dea4-4cdd-a2c9-e34620fe1b1e",
   "metadata": {},
   "outputs": [],
   "source": []
  },
  {
   "cell_type": "markdown",
   "id": "a44c9763-c81f-4b1c-b3c0-d40022a5e860",
   "metadata": {},
   "source": [
    "## Data Analysis After Cleanup"
   ]
  },
  {
   "cell_type": "code",
   "execution_count": 31,
   "id": "4f5d2c35-1bdb-4483-b045-81d9b0fba3b7",
   "metadata": {},
   "outputs": [
    {
     "data": {
      "image/png": "[encoded data removed]",
      "text/plain": [
       "<Figure size 1000x600 with 1 Axes>"
      ]
     },
     "metadata": {},
     "output_type": "display_data"
    }
   ],
   "source": [
    "# Identify potential outliers\n",
    "# Calculate the percentiles\n",
    "percentiles = np.percentile(loan_data['annual_inc'], np.arange(0, 101, 1))\n",
    "\n",
    "# Plotting the distribution of annual_inc in percentiles\n",
    "plt.figure(figsize=(10, 6))\n",
    "plt.plot(np.arange(0, 101, 1), percentiles, marker='o', color='skyblue')\n",
    "plt.xlabel('Percentile')\n",
    "plt.ylabel('Annual Income')\n",
    "plt.title('Distribution of Annual Income Across Percentiles')\n",
    "plt.grid(True)\n",
    "plt.show()"
   ]
  },
  {
   "cell_type": "markdown",
   "id": "f9dbada3-7efb-48bc-b0c6-1a58466cce2e",
   "metadata": {},
   "source": [
    "Outlier seems to be after 98th percentile"
   ]
  },
  {
   "cell_type": "code",
   "execution_count": 32,
   "id": "d6e47e62-6c8b-4e15-9cbb-665c696e32f7",
   "metadata": {},
   "outputs": [
    {
     "ename": "NameError",
     "evalue": "name 'percentile_99' is not defined",
     "output_type": "error",
     "traceback": [
      "\u001b[0;31m---------------------------------------------------------------------------\u001b[0m",
      "\u001b[0;31mNameError\u001b[0m                                 Traceback (most recent call last)",
      "Cell \u001b[0;32mIn[32], line 8\u001b[0m\n\u001b[1;32m      6\u001b[0m plt\u001b[38;5;241m.\u001b[39mhist(loan_data[\u001b[38;5;124m'\u001b[39m\u001b[38;5;124mannual_inc\u001b[39m\u001b[38;5;124m'\u001b[39m], bins\u001b[38;5;241m=\u001b[39m\u001b[38;5;241m100\u001b[39m, color\u001b[38;5;241m=\u001b[39m\u001b[38;5;124m'\u001b[39m\u001b[38;5;124mskyblue\u001b[39m\u001b[38;5;124m'\u001b[39m, alpha\u001b[38;5;241m=\u001b[39m\u001b[38;5;241m0.7\u001b[39m)\n\u001b[1;32m      7\u001b[0m plt\u001b[38;5;241m.\u001b[39maxvline(percentile_98, color\u001b[38;5;241m=\u001b[39m\u001b[38;5;124m'\u001b[39m\u001b[38;5;124mred\u001b[39m\u001b[38;5;124m'\u001b[39m, linestyle\u001b[38;5;241m=\u001b[39m\u001b[38;5;124m'\u001b[39m\u001b[38;5;124mdashed\u001b[39m\u001b[38;5;124m'\u001b[39m, linewidth\u001b[38;5;241m=\u001b[39m\u001b[38;5;241m2\u001b[39m)\n\u001b[0;32m----> 8\u001b[0m plt\u001b[38;5;241m.\u001b[39mtext(percentile_99, plt\u001b[38;5;241m.\u001b[39mylim()[\u001b[38;5;241m1\u001b[39m]\u001b[38;5;241m*\u001b[39m\u001b[38;5;241m0.9\u001b[39m, \u001b[38;5;124mf\u001b[39m\u001b[38;5;124m'\u001b[39m\u001b[38;5;124m98th percentile: \u001b[39m\u001b[38;5;132;01m{\u001b[39;00mpercentile_99\u001b[38;5;132;01m:\u001b[39;00m\u001b[38;5;124m.2f\u001b[39m\u001b[38;5;132;01m}\u001b[39;00m\u001b[38;5;124m'\u001b[39m, color\u001b[38;5;241m=\u001b[39m\u001b[38;5;124m'\u001b[39m\u001b[38;5;124mred\u001b[39m\u001b[38;5;124m'\u001b[39m)\n\u001b[1;32m      9\u001b[0m plt\u001b[38;5;241m.\u001b[39mxlabel(\u001b[38;5;124m'\u001b[39m\u001b[38;5;124mAnnual Income\u001b[39m\u001b[38;5;124m'\u001b[39m)\n\u001b[1;32m     10\u001b[0m plt\u001b[38;5;241m.\u001b[39mylabel(\u001b[38;5;124m'\u001b[39m\u001b[38;5;124mFrequency\u001b[39m\u001b[38;5;124m'\u001b[39m)\n",
      "\u001b[0;31mNameError\u001b[0m: name 'percentile_99' is not defined"
     ]
    },
    {
     "data": {
      "image/png": "[encoded data removed]",
      "text/plain": [
       "<Figure size 1000x600 with 1 Axes>"
      ]
     },
     "metadata": {},
     "output_type": "display_data"
    }
   ],
   "source": [
    "# Calculate the 98th percentile\n",
    "percentile_98 = loan_data['annual_inc'].quantile(0.99)\n",
    "\n",
    "# Plotting the distribution of annual_inc\n",
    "plt.figure(figsize=(10, 6))\n",
    "plt.hist(loan_data['annual_inc'], bins=100, color='skyblue', alpha=0.7)\n",
    "plt.axvline(percentile_98, color='red', linestyle='dashed', linewidth=2)\n",
    "plt.text(percentile_99, plt.ylim()[1]*0.9, f'98th percentile: {percentile_99:.2f}', color='red')\n",
    "plt.xlabel('Annual Income')\n",
    "plt.ylabel('Frequency')\n",
    "plt.title('Distribution of Annual Income with 98th Percentile Marked')\n",
    "plt.show()"
   ]
  },
  {
   "cell_type": "markdown",
   "id": "c9f7bfa0-1578-4ae4-a79f-7c3d03ff815d",
   "metadata": {},
   "source": [
    "Remove outliers beyond the 98th percentile:"
   ]
  },
  {
   "cell_type": "code",
   "execution_count": null,
   "id": "1c300526-db07-4807-bd23-421c21514d9f",
   "metadata": {},
   "outputs": [],
   "source": [
    "# Calculate the 99th percentile\n",
    "percentile_98 = loan_data['annual_inc'].quantile(0.98)\n",
    "\n",
    "# Remove outliers beyond the 99th percentile\n",
    "loan_data = loan_data[loan_data['annual_inc'] <= percentile_98]\n",
    "\n",
    "# Plotting the distribution of annual_inc after removing outliers\n",
    "plt.figure(figsize=(10, 6))\n",
    "plt.hist(loan_data['annual_inc'], bins=100, color='skyblue', alpha=0.7)\n",
    "plt.xlabel('Annual Income')\n",
    "plt.ylabel('Frequency')\n",
    "plt.title('Distribution of Annual Income After Removing Outliers Beyond 98th Percentile')\n",
    "plt.show()"
   ]
  },
  {
   "cell_type": "code",
   "execution_count": null,
   "id": "9c250dad-8f94-4b8d-8a91-d54979ce93cf",
   "metadata": {},
   "outputs": [],
   "source": [
    "# Calculate the percentiles\n",
    "percentiles = np.percentile(loan_data['annual_inc'], np.arange(0, 101, 1))\n",
    "\n",
    "# Plotting the distribution of annual_inc in percentiles\n",
    "plt.figure(figsize=(10, 6))\n",
    "plt.plot(np.arange(0, 101, 1), percentiles, marker='o', color='skyblue')\n",
    "plt.xlabel('Percentile')\n",
    "plt.ylabel('Annual Income')\n",
    "plt.title('Distribution of Annual Income Across Percentiles after removing outlier')\n",
    "plt.grid(True)\n",
    "plt.show()"
   ]
  },
  {
   "cell_type": "markdown",
   "id": "3dfd0723-fd48-4cd7-9ee6-01bb56b27f84",
   "metadata": {},
   "source": [
    "## Univariate Analysis\n"
   ]
  },
  {
   "cell_type": "code",
   "execution_count": null,
   "id": "d575d398-2a9a-4e25-99e3-acb5d865ac69",
   "metadata": {},
   "outputs": [],
   "source": [
    "# Loan status \n",
    "print(loan_data.loan_status.value_counts()*100/loan_data.loan_status.count())\n",
    "# 0=Fully Paid, 1=Charged Off\n",
    "plt.figure(figsize=(10,5))\n",
    "ax=sns.countplot(loan_data.loan_status)\n",
    "ax.annotate('Fully Paid',xy=(0.25,0.3),xycoords='axes fraction',horizontalalignment='center',verticalalignment='center',fontsize=12)\n",
    "ax.annotate('Charged Off',xy=(0.75,0.1),xycoords='axes fraction',horizontalalignment='center',verticalalignment='center',fontsize=12)\n",
    "ax.set_title('Loan Status')\n",
    "ax.set_xlabel('Loan Status')\n",
    "ax.set_ylabel('Count')\n",
    "plt.show()"
   ]
  },
  {
   "cell_type": "markdown",
   "id": "f5a4d72d-f01b-434f-a4b0-e87c264eb3b6",
   "metadata": {},
   "source": [
    "##### Inference: Defaulted loan are low in numbers compared to Fully Paid.\n",
    "\n"
   ]
  },
  {
   "cell_type": "code",
   "execution_count": null,
   "id": "a17908be-8157-4f37-8e9c-cb733e535cae",
   "metadata": {},
   "outputs": [],
   "source": [
    "# Term of loan \n",
    "term_counts = loan_data.term.value_counts(normalize=True) * 100\n",
    "\n",
    "# Plotting\n",
    "plt.figure(figsize=(8, 6))\n",
    "term_counts.plot(kind='bar', color='skyblue')\n",
    "plt.title('Distribution of Loan Terms')\n",
    "plt.xlabel('Loan Term (months)')\n",
    "plt.ylabel('Percentage (%)')\n",
    "plt.xticks(rotation=0)\n",
    "plt.show()"
   ]
  },
  {
   "cell_type": "markdown",
   "id": "ec88149f-a4d6-45c8-8f72-c2ad77ca9caa",
   "metadata": {},
   "source": [
    "Inference: More than half of the loan taken has term of 36 months compared to 60 months.\n",
    "\n"
   ]
  },
  {
   "cell_type": "code",
   "execution_count": null,
   "id": "3631ff16-849e-44d3-89e6-e49d8a38ced4",
   "metadata": {},
   "outputs": [],
   "source": [
    "# Interest Rate Distribution (`int_rate`)\n",
    "int_rate_stats = loan_data['int_rate'].describe()\n",
    "print(\"\\nInterest Rate Statistics:\")\n",
    "print(int_rate_stats)\n",
    "\n",
    "plt.figure(figsize=(8, 6))\n",
    "sns.histplot(loan_data['int_rate'], bins=30, kde=True)\n",
    "plt.title('Distribution of Interest Rate')\n",
    "plt.show()"
   ]
  },
  {
   "cell_type": "markdown",
   "id": "575e8048-da33-44ed-92b8-eb51603cd4cf",
   "metadata": {},
   "source": [
    "Inference: The interest rate is more crowded around 5-10 and 10-15 with a drop near 10.\n",
    "\n"
   ]
  },
  {
   "cell_type": "code",
   "execution_count": null,
   "id": "b61fbb29-a334-4eb3-8ccd-f739a885242d",
   "metadata": {},
   "outputs": [],
   "source": [
    "# Distribution of Greade\n",
    "plt.figure(figsize=(10,5))\n",
    "sns.countplot(loan_data.grade)\n",
    "plt.xlabel('Grade')\n",
    "plt.ylabel('Density')\n",
    "plt.title('Distribution of Grade')\n",
    "plt.show()"
   ]
  },
  {
   "cell_type": "markdown",
   "id": "8465842c-8f7c-403a-a3c5-3fec845bd2a6",
   "metadata": {},
   "source": [
    "Inference: A large amount of loans are with grade 'A' and 'B' commpared to rest showing most loans are high grade loans."
   ]
  },
  {
   "cell_type": "code",
   "execution_count": null,
   "id": "fac20238-9ce3-42a3-92ff-a31cf4424e77",
   "metadata": {},
   "outputs": [],
   "source": [
    "# Distribution of Annual Income (`annual_inc`)\n",
    "annual_inc_stats = loan_data['annual_inc'].describe()\n",
    "print(\"\\nAnnual Income Statistics:\")\n",
    "print(annual_inc_stats)\n",
    "\n",
    "plt.figure(figsize=(8, 6))\n",
    "sns.histplot(loan_data['annual_inc'], bins=50, kde=True)\n",
    "plt.title('Distribution of Annual Income')\n",
    "plt.show()"
   ]
  },
  {
   "cell_type": "markdown",
   "id": "6495d9f4-beae-4daf-b6f0-cd7226f541a4",
   "metadata": {},
   "source": [
    "Inference: Annual Income shows left skewed normal distribution thus we can say that the majority of burrowers have very low annual income compared to rest."
   ]
  },
  {
   "cell_type": "code",
   "execution_count": null,
   "id": "a35e980e-2987-4ae8-8158-5d4349bae39a",
   "metadata": {},
   "outputs": [],
   "source": [
    "# Distribution of Debt-to-Income Ratio (`dti`)\n",
    "\n",
    "dti_stats = loan_data['dti'].describe()\n",
    "print(\"\\nDebt-to-Income Ratio Statistics:\")\n",
    "print(dti_stats)\n",
    "\n",
    "plt.figure(figsize=(8, 6))\n",
    "sns.histplot(loan_data['dti'], bins=30, kde=True)\n",
    "plt.title('Distribution of Debt-to-Income Ratio (DTI)')\n",
    "plt.show()"
   ]
  },
  {
   "cell_type": "markdown",
   "id": "8117e4ec-da9d-4568-875e-34cc9cb535b6",
   "metadata": {},
   "source": [
    "Inference: Majority of the borrowers have very large debt compared to the income registerd, concentrated in the 10-15 DTI ratio."
   ]
  },
  {
   "cell_type": "code",
   "execution_count": null,
   "id": "4215419e-ff90-4991-8ccb-21f9a7c57cd4",
   "metadata": {},
   "outputs": [],
   "source": [
    "# Purpose of the Loan (`purpose`)\n",
    "purpose_counts = loan_data['purpose'].value_counts()\n",
    "print(\"\\nLoan Purpose Counts:\")\n",
    "print(purpose_counts)\n",
    "\n",
    "plt.figure(figsize=(12, 8))\n",
    "sns.countplot(y='purpose', data=loan_data, hue='loan_status', order=loan_data['purpose'].value_counts().index)\n",
    "plt.title('Loan Purpose Distribution by Loan Status')\n",
    "plt.show()"
   ]
  },
  {
   "cell_type": "markdown",
   "id": "ee008248-80fc-40f2-b9b4-6a92646e1de8",
   "metadata": {},
   "source": [
    "Inference: A large percentage of loans are taken for debt consolidation followed by credit card.\n",
    "\n"
   ]
  },
  {
   "cell_type": "code",
   "execution_count": null,
   "id": "7e26aeff-f738-44e8-83dd-fe8f760355af",
   "metadata": {},
   "outputs": [],
   "source": [
    "# Distribution of addr_state\n",
    "plt.figure(figsize=(15, 5))\n",
    "sns.countplot(x='addr_state', hue='loan_status', data=loan_data)\n",
    "plt.xlabel('State')\n",
    "plt.ylabel('Count')\n",
    "plt.title('Distribution of Loan Status by State')\n",
    "plt.xticks(rotation=45)  # Rotate x labels if there are many states\n",
    "plt.show()"
   ]
  },
  {
   "cell_type": "markdown",
   "id": "68a8888c-ad33-475f-9d8f-e5a043c15644",
   "metadata": {},
   "source": [
    "Inference: Majority of the borrowers are from the large urban cities like california, new york, texas, florida etc.\n",
    "\n"
   ]
  },
  {
   "cell_type": "code",
   "execution_count": null,
   "id": "c306eb60-80e6-4c39-8452-ff1af68a3672",
   "metadata": {},
   "outputs": [],
   "source": [
    "# Distribution of pub_rec_bankruptcies\n",
    "# Count the occurrences of each unique value in pub_rec_bankruptcies\n",
    "pub_rec_bankruptcies_counts = loan_data['pub_rec_bankruptcies'].value_counts()\n",
    "\n",
    "# Plotting without seaborn\n",
    "plt.figure(figsize=(10, 5))\n",
    "plt.bar(pub_rec_bankruptcies_counts.index, pub_rec_bankruptcies_counts.values, color='skyblue')\n",
    "plt.xlabel('Public Record Bankruptcies')\n",
    "plt.ylabel('Count')\n",
    "plt.title('Distribution of Public Record Bankruptcies', fontsize=12)\n",
    "plt.show()"
   ]
  },
  {
   "cell_type": "markdown",
   "id": "66f9f5fd-00e6-43ff-997a-f0dbe14735ff",
   "metadata": {},
   "source": [
    "Inference: Majority of the borrowers have no record of Public Recorded Bankruptcy.\n",
    "\n"
   ]
  },
  {
   "cell_type": "code",
   "execution_count": null,
   "id": "1c22a339-1ed7-4e82-8456-4b8937e993ef",
   "metadata": {},
   "outputs": [],
   "source": [
    "# Distribution of issue_month\n",
    "\n",
    "# Count the occurrences of each unique value in issue_month grouped by loan_status\n",
    "issue_month_counts = loan_data.groupby(['issue_month', 'loan_status']).size().unstack(fill_value=0)\n",
    "\n",
    "# Plotting without seaborn\n",
    "plt.figure(figsize=(10, 5))\n",
    "issue_month_counts.plot(kind='bar', stacked=True, color=['skyblue', 'salmon'], ax=plt.gca())\n",
    "plt.xlabel('Issue Month')\n",
    "plt.ylabel('Count')\n",
    "plt.title('Distribution of Loan Issue Month by Loan Status', fontsize=12)\n",
    "plt.xticks(rotation=45)\n",
    "plt.legend(title='Loan Status')\n",
    "plt.show()"
   ]
  },
  {
   "cell_type": "code",
   "execution_count": null,
   "id": "c39f3deb-0dab-4d72-b6b7-c685ca1a6a4e",
   "metadata": {},
   "outputs": [],
   "source": []
  },
  {
   "cell_type": "markdown",
   "id": "5a84b916-6744-4c01-bad0-4fe4fcd19b62",
   "metadata": {},
   "source": [
    "Inference: Majority of the loans are given in last quarter of the year.\n",
    "\n"
   ]
  },
  {
   "cell_type": "code",
   "execution_count": null,
   "id": "8106ce77-a988-43a3-8fc7-610c76342a6c",
   "metadata": {},
   "outputs": [],
   "source": [
    "# Revolving Credit Utilization (`revol_util`)\n",
    "revol_util_stats = loan_data['revol_util'].describe()\n",
    "print(\"\\nRevolving Credit Utilization Statistics:\")\n",
    "print(revol_util_stats)\n",
    "\n",
    "plt.figure(figsize=(8, 6))\n",
    "sns.histplot(loan_data['revol_util'], bins=30, kde=True)\n",
    "plt.title('Distribution of Revolving Credit Utilization')\n",
    "plt.show()"
   ]
  },
  {
   "cell_type": "markdown",
   "id": "b6b6d5b5-1c1e-4428-bb5a-7e47313088ba",
   "metadata": {},
   "source": [
    "## Bivariate Analysis"
   ]
  },
  {
   "cell_type": "code",
   "execution_count": null,
   "id": "81978212-4898-4568-84c7-db0b4dc9397d",
   "metadata": {},
   "outputs": [],
   "source": [
    "# Annual Income (log-transformed) vs Loan Status\n",
    "loan_data['annual_inc_log'] = np.log1p(loan_data['annual_inc'])\n",
    "annual_inc_log_stats = loan_data['annual_inc_log'].describe()\n",
    "print(\"\\nLog-Transformed Annual Income Statistics:\")\n",
    "print(annual_inc_log_stats)\n",
    "\n",
    "plt.figure(figsize=(10, 6))\n",
    "sns.boxplot(x='loan_status', y='annual_inc_log', data=loan_data)\n",
    "plt.title('Log-Transformed Annual Income by Loan Status')\n",
    "plt.show()"
   ]
  },
  {
   "cell_type": "markdown",
   "id": "3660dc9b-9e19-4603-b3af-d0b2fca2626c",
   "metadata": {},
   "source": [
    "Inference: The mean and 25% percentile are same for both but we see larger 75% percentile in the defaulted loan which indicate large amount of loan has higher chance of defaulting."
   ]
  },
  {
   "cell_type": "code",
   "execution_count": null,
   "id": "f9361a51-027e-4b9f-990e-b68cb9d1c034",
   "metadata": {},
   "outputs": [],
   "source": [
    "# Interest Rate vs Loan Status\n",
    "plt.figure(figsize=(10, 6))\n",
    "sns.boxplot(x='loan_status', y='int_rate', data=loan_data)\n",
    "plt.title('Interest Rate by Loan Status')\n",
    "plt.show()"
   ]
  },
  {
   "cell_type": "code",
   "execution_count": null,
   "id": "2026d79a-a439-4f05-9191-13aa0e3d893b",
   "metadata": {},
   "outputs": [],
   "source": [
    "# Home Ownership Distribution by Loan Status (`home_ownership`)\n",
    "home_ownership_counts = loan_data['home_ownership'].value_counts()\n",
    "print(\"\\nHome Ownership Counts:\")\n",
    "print(home_ownership_counts)\n",
    "\n",
    "plt.figure(figsize=(8, 6))\n",
    "sns.countplot(x='home_ownership', data=loan_data, hue='loan_status')\n",
    "plt.title('Home Ownership Distribution by Loan Status')\n",
    "plt.show()"
   ]
  },
  {
   "cell_type": "markdown",
   "id": "077c6357-bee1-4301-99a8-97745e608a1e",
   "metadata": {},
   "source": [
    "Inference: Majority of borrowsers don't posses property and are on mortage or rent.\n",
    "\n"
   ]
  },
  {
   "cell_type": "code",
   "execution_count": null,
   "id": "19252c25-686a-482d-9a62-e8794cffbf56",
   "metadata": {},
   "outputs": [],
   "source": [
    "# Employment Length Distribution by Loan Status (`emp_length`)\n",
    "# Count the occurrences of each employment length\n",
    "emp_length_counts = loan_data['emp_length'].value_counts().sort_index()\n",
    "\n",
    "# Plotting\n",
    "plt.figure(figsize=(10, 5))\n",
    "plt.bar(emp_length_counts.index, emp_length_counts.values, color='skyblue')\n",
    "plt.xlabel('Employment Length')\n",
    "plt.ylabel('Count')\n",
    "plt.title('Distribution of Employment Length', fontsize=12)\n",
    "plt.xticks(rotation=45)  # Rotate x labels for better readability\n",
    "plt.show()"
   ]
  },
  {
   "cell_type": "markdown",
   "id": "1f86a62f-1cce-486e-8ff8-9f5340874859",
   "metadata": {},
   "source": [
    "Inference: Majority of borrowsers have working experience greater than 10 years.\n",
    "\n"
   ]
  },
  {
   "cell_type": "code",
   "execution_count": null,
   "id": "502a8f95-a467-4ec8-894b-be6cfea4c005",
   "metadata": {},
   "outputs": [],
   "source": [
    "# DTI vs Loan Status\n",
    "plt.figure(figsize=(10, 6))\n",
    "sns.boxplot(x='loan_status', y='dti', data=loan_data)\n",
    "plt.title('Debt-to-Income Ratio by Loan Status')\n",
    "plt.show()"
   ]
  },
  {
   "cell_type": "code",
   "execution_count": null,
   "id": "d936810b-65d2-4179-a016-3443adcdd95e",
   "metadata": {},
   "outputs": [],
   "source": [
    "# Verification Status by Loan Status (`verification_status`)\n",
    "verification_status_counts = loan_data['verification_status'].value_counts()\n",
    "print(\"\\nVerification Status Counts:\")\n",
    "print(verification_status_counts)\n",
    "\n",
    "plt.figure(figsize=(8, 6))\n",
    "sns.countplot(x='verification_status', data=loan_data, hue='loan_status')\n",
    "plt.title('Verification Status by Loan Status')\n",
    "plt.show()"
   ]
  },
  {
   "cell_type": "code",
   "execution_count": null,
   "id": "28cd71f1-742c-4817-b4cf-bd74c39bedd3",
   "metadata": {},
   "outputs": [],
   "source": [
    "# Calculate the counts of each verification status\n",
    "# Calculate total loans\n",
    "total_loans = len(loan_data)\n",
    "\n",
    "# Calculate the counts and percentages for verification status\n",
    "verification_status_counts = loan_data['verification_status'].value_counts()\n",
    "verified_count = verification_status_counts['Verified'] + verification_status_counts['Source Verified']\n",
    "not_verified_count = verification_status_counts['Not Verified']\n",
    "\n",
    "verified_percentage = (verified_count / total_loans) * 100\n",
    "not_verified_percentage = (not_verified_count / total_loans) * 100\n",
    "\n",
    "# Calculate charged-off loans within each group\n",
    "charged_off_verified = loan_data[(loan_data['loan_status'] == 'Charged Off') & \n",
    "                                 (loan_data['verification_status'].isin(['Verified', 'Source Verified']))].shape[0]\n",
    "charged_off_not_verified = loan_data[(loan_data['loan_status'] == 'Charged Off') & \n",
    "                                     (loan_data['verification_status'] == 'Not Verified')].shape[0]\n",
    "\n",
    "charged_off_verified_percentage = (charged_off_verified / verified_count) * 100\n",
    "charged_off_not_verified_percentage = (charged_off_not_verified / not_verified_count) * 100\n",
    "\n",
    "# Print the results\n",
    "print(f\"Total Loans: {total_loans}\")\n",
    "print(f\"Verified Loans: {verified_count} ({verified_percentage:.2f}%)\")\n",
    "print(f\"Not Verified Loans: {not_verified_count} ({not_verified_percentage:.2f}%)\")\n",
    "print(f\"Charged Off from Verified Loans: {charged_off_verified} ({charged_off_verified_percentage:.2f}%)\")\n",
    "print(f\"Charged Off from Not Verified Loans: {charged_off_not_verified} ({charged_off_not_verified_percentage:.2f}%)\")"
   ]
  },
  {
   "cell_type": "markdown",
   "id": "4ae4299d-19f4-41cc-86ad-1f8bfbdad56f",
   "metadata": {},
   "source": [
    "Inference: About 57% of the borrowers are verified by the company or have source verified. But it does not conclude anything as numbers are very closed. \n",
    "\n",
    "\n"
   ]
  },
  {
   "cell_type": "code",
   "execution_count": null,
   "id": "e9b1d9d8-c2c5-43bd-87e9-3725908ced26",
   "metadata": {},
   "outputs": [],
   "source": [
    "# Analyze default rates by loan term\n",
    "term_vs_status = pd.crosstab(loan_data['term'], loan_data['loan_status'], normalize='index')\n",
    "print(\"\\n--- Loan Term vs Loan Status ---\")\n",
    "print(term_vs_status)\n",
    "\n",
    "plt.figure(figsize=(10, 6))\n",
    "sns.countplot(x='term', data=loan_data, hue='loan_status')\n",
    "plt.title('Loan Status by Loan Term')\n",
    "plt.show()"
   ]
  },
  {
   "cell_type": "code",
   "execution_count": null,
   "id": "fd3e230c-f33e-4164-a04e-87dfbe3a2adb",
   "metadata": {},
   "outputs": [],
   "source": []
  },
  {
   "cell_type": "markdown",
   "id": "a7eb31c8-7c9d-45db-a48c-ed52d079e924",
   "metadata": {},
   "source": [
    "Inference: The 60 month term has higher chance of defaulting than 36 month term whereas the 36 month term has higher chance of fully paid loan."
   ]
  },
  {
   "cell_type": "code",
   "execution_count": null,
   "id": "6a3f8bd4-b390-4d3f-a714-cbac0a2de3df",
   "metadata": {},
   "outputs": [],
   "source": [
    "# Group the data by 'term' and 'grade' and count occurrencesInference: The loans in 36 month term majorily consist of grade A and B loans whereas the loans in 60 month term mostly consist of grade B, C and D loans.\n",
    "term_grade_counts = loan_data.groupby(['term', 'grade']).size().unstack(fill_value=0)\n",
    "\n",
    "# Plotting without seaborn\n",
    "plt.figure(figsize=(10, 5))\n",
    "term_grade_counts.plot(kind='bar', stacked=True, ax=plt.gca())\n",
    "plt.xlabel('Term')\n",
    "plt.ylabel('Count')\n",
    "plt.title('Distribution of Term For Grade', fontsize=12)\n",
    "plt.xticks(rotation=0)\n",
    "plt.legend(title='Grade')\n",
    "plt.show()"
   ]
  },
  {
   "cell_type": "markdown",
   "id": "669d53e5-5516-4c24-996e-4165d599b36e",
   "metadata": {},
   "source": [
    "Inference: The loans in 36 month term majorily consist of grade A and B loans whereas the loans in 60 month term mostly consist of grade B, C and D loans."
   ]
  },
  {
   "cell_type": "code",
   "execution_count": null,
   "id": "f36460cb-c17c-4e7e-bf25-e33200f9a17e",
   "metadata": {},
   "outputs": [],
   "source": []
  },
  {
   "cell_type": "code",
   "execution_count": null,
   "id": "b7a02c7a-6cb9-484f-a45f-9b5a42b21ea8",
   "metadata": {},
   "outputs": [],
   "source": [
    "# Distribution of DTI based on Grade\n",
    "plt.figure(figsize=(10,5))\n",
    "sns.histplot(data=loan_data,x='dti',hue='loan_status',bins=10)\n",
    "plt.xlabel('DTI')\n",
    "plt.ylabel('Count')\n",
    "plt.title('Distribution of DTI For Loan Status',fontsize=12)\n",
    "plt.show()\n",
    "\n"
   ]
  },
  {
   "cell_type": "markdown",
   "id": "d542b703-b826-496a-a8cc-cea19777f24c",
   "metadata": {},
   "source": [
    "Inference: The Loan Status varies with DTI ratio, we can see that the loans in DTI ratio 10-15 have higher number of defaulted loan but higher dti has higher chance of defaulting."
   ]
  },
  {
   "cell_type": "code",
   "execution_count": null,
   "id": "0a36f5e6-4358-4b41-b957-5835d2c95742",
   "metadata": {},
   "outputs": [],
   "source": [
    "# Analyze default rates by loan purpose\n",
    "purpose_vs_status = pd.crosstab(loan_data['purpose'], loan_data['loan_status'], normalize='index')\n",
    "print(\"\\n--- Purpose vs Loan Status ---\")\n",
    "print(purpose_vs_status)\n",
    "\n",
    "plt.figure(figsize=(12, 8))\n",
    "sns.countplot(y='purpose', data=loan_data, hue='loan_status', order=loan_data['purpose'].value_counts().index)\n",
    "plt.title('Loan Status by Purpose')\n",
    "plt.show()"
   ]
  },
  {
   "cell_type": "code",
   "execution_count": null,
   "id": "6a498074-a9ea-4403-b79f-d061aa0bde99",
   "metadata": {},
   "outputs": [],
   "source": []
  },
  {
   "cell_type": "code",
   "execution_count": null,
   "id": "34ae4604-167d-422d-a0f9-705734c4a1b9",
   "metadata": {},
   "outputs": [],
   "source": []
  },
  {
   "cell_type": "code",
   "execution_count": null,
   "id": "c33b2c6b-166e-41db-a2ed-63b061116eb7",
   "metadata": {},
   "outputs": [],
   "source": []
  },
  {
   "cell_type": "code",
   "execution_count": null,
   "id": "8e89c163-8fc5-4bb1-9bf4-b4c1c05c31bd",
   "metadata": {},
   "outputs": [],
   "source": []
  },
  {
   "cell_type": "markdown",
   "id": "21b49443-4118-42ed-836a-dbda4059baa7",
   "metadata": {},
   "source": [
    "### Insights from Univariate Analysis\n",
    "\t•\tThe number of defaulted loan is 7 times less than the number of fully paid loan.\n",
    "\t•\tThe majority of loan has a term of 36 months compared to 60 months.\n",
    "\t•\tThe interest rate is more crowded around 5-10 and 10-15 with a drop near 10.\n",
    "\t•\tA large amoutn of loans are with grade 'A' and 'B' commpared to rest showing most loans are high grade loans.\n",
    "\t•\tMajority of borrowsers have working experience greater than 10 years.\n",
    "\t•\tMajority of borrowsers don't posses property and are on mortage or rent.\n",
    "\t•\tAbout 50% of the borrowers are verified by the company or have source verified.\n",
    "\t•\tAnnual Income shows left skewed normal distribution thus we can say that the majorityof burrowers have very low annual income compared to rest.\n",
    "\t•\tA large percentage of loans are taken for debt consolidation followed by credit card.\n",
    "\t•\tMajority of the borrowers are from the large urban cities like california, new york, texas, florida etc.\n",
    "\t•\tMajority of the borrowers have very large debt compared to the income registerd, concentrated in the 10-15 DTI ratio.\n",
    "\t•\tMajority of the borrowers have no record of Public Recorded Bankruptcy.\n",
    "\t•\tMajority of the loans are given in last quarter of the year.\n",
    "\t•\tThe number of loans approved increases with the time at expontential rate, thus we can say that the loan approval rate is increasing with the time.\n",
    "\n",
    "### Insights from Bivariate and Segmented Analysis\n",
    "\n",
    "1. Interest Rate vs Loan Status\n",
    "\n",
    "\t•\tInsight: Borrowers who defaulted (Charged Off) had a higher average interest rate (13.82%) compared to those who fully paid their loans (11.61%). This suggests that higher interest rates are associated with a higher risk of default.\n",
    "\t•\tAction: Interest rate should be considered a key feature when predicting loan defaults.\n",
    "\n",
    "2. Home Ownership vs Loan Status\n",
    "\n",
    "\t•\tInsight: Majority of borrowsers don't posses property and are on mortage or rent.\n",
    "\n",
    "3. Employment Length vs Loan Status\n",
    "\n",
    "\t•\tInsight: There isn’t a stark difference in default rates based on employment length. However, borrowers with 10+ years of employment had slightly higher default rates (14.99%) compared to other employment lengths.\n",
    "\t•\tAction: While employment length should be included in the model, it may not be as strong a predictor as interest rates or loan term.\n",
    "\n",
    "4. Debt-to-Income Ratio vs Loan Status\n",
    "\n",
    "\t•\tInsight: Borrowers who defaulted had a slightly higher average DTI (14.00%) compared to those who fully paid their loans (13.15%). This suggests that higher DTI ratios are associated with higher risk.\n",
    "\t•\tAction: DTI should be used as a feature in predicting defaults, though the difference is not very large.\n",
    "\n",
    "5. Verification Status by Loan Status\n",
    "\n",
    "\t•\tInsight: Inference: About 57% of the borrowers are verified by the company or have source verified. But it does not conclude anything as numbers are very closed. \n",
    "\n",
    "\n",
    "6.  Term vs Loan Status\n",
    "\n",
    "\t•\tInsight: Loans with a 60-month term had a higher default rate (22.6%) compared to loans with a 36-month term (11.1%). Additionally, loans with a 60-month term also had a higher proportion of loans currently being paid (10.7%) compared to 36-month loans (0%).\n",
    "\t•\tAction: Loan term is an important variable in understanding loan performance, with longer-term loans being riskier.\n",
    "\n",
    "\n",
    "7. Distribution of Grade vs Term\n",
    "\n",
    "\t•\tInsight: The loans in 36 month term majorily consist of grade A and B loans whereas the loans in 60 month term mostly consist of grade B, C and D loans.\n",
    "\n",
    "8. Distribution of DTI For Loan Status\n",
    "\t•\tInsight: The Loan Status varies with DTI ratio, we can see that the loans in DTI ratio 10-15 have higher number of defaulted loan but higher dti has higher chance of defaulting.\n",
    "\t•\tAction: More Loan should be given to less DTI then 10 . \n",
    "    \n",
    "10. Purpose vs Loan Status\n",
    "\n",
    "\t•\tInsight:\n",
    "\t•\tThe purpose of the loan significantly affects the default rate. Small business loans have the highest default rate (25.9%), while major purchases and weddings have the lowest (10.1%).\n",
    "\t•\tEducational, medical, and moving expenses also have relatively high default rates, indicating these purposes are riskier.\n",
    "\t•\tAction: Loan purpose is an important categorical variable and should be treated as a key feature in the model, particularly focusing on high-risk purposes like small business loans.\n",
    "\n",
    "11. Home Ownership vs Loan Status\n",
    "\n",
    "\t•\tInsight:\n",
    "\t•\tThe default rate is slightly higher for renters (15.0%) compared to those with a mortgage (13.2%) or who own their home (14.5%).\n",
    "\t•\tThis suggests that homeownership provides some stability, although the differences are not as stark as in other segments.\n",
    "\t•\tAction: While home ownership status has some predictive value, it may not be as strong a predictor as income segment or loan term.\n",
    "\n",
    "\n",
    "12. Open Accounts vs Loan Status\n",
    "\n",
    "\t•\tInsight: The average number of open accounts is similar across loan statuses, but those who defaulted had slightly fewer accounts (9.18) compared to those currently paying (9.94).\n",
    "\t•\tAction: The number of open accounts may have some predictive value but likely not as strong as other features like interest rate or term.\n",
    "\n",
    "13. Revolving Credit Utilization vs Loan Status\n",
    "\n",
    "\t•\tInsight: Borrowers who defaulted had higher average revolving credit utilization (55.6%) compared to those who fully paid their loans (47.5%). Higher credit utilization is clearly associated with higher default risk.\n",
    "\t•\tAction: Revolving credit utilization is a key feature that should be included in the predictive model.\n",
    "###"
   ]
  },
  {
   "cell_type": "markdown",
   "id": "94e1d245-bfe5-4440-b001-c5edeafa3147",
   "metadata": {},
   "source": [
    "## Correlation Matrix based on 3 variables"
   ]
  },
  {
   "cell_type": "code",
   "execution_count": null,
   "id": "fb56beb1-0b2a-47fa-a68e-e02e4d65c8fb",
   "metadata": {},
   "outputs": [],
   "source": [
    "# Load the dataset\n",
    "loan_data = pd.read_csv('loan.csv')\n",
    "\n",
    "# Clean the data: Extract numeric values from the `term` column and convert percentage strings\n",
    "loan_data['term'] = loan_data['term'].apply(lambda x: int(x.strip().split()[0]))\n",
    "loan_data['int_rate'] = loan_data['int_rate'].str.replace('%', '').astype(float)\n",
    "loan_data['revol_util'] = loan_data['revol_util'].str.replace('%', '').astype(float)\n",
    "\n",
    "# Select relevant numeric features for correlation analysis\n",
    "numeric_features = ['loan_amnt', 'term', 'int_rate', 'annual_inc', 'dti', 'open_acc', 'revol_util']\n",
    "\n",
    "# Calculate correlation matrix\n",
    "corr_matrix = loan_data[numeric_features].corr()\n",
    "\n",
    "# Plot the correlation heatmap\n",
    "plt.figure(figsize=(10, 8))\n",
    "sns.heatmap(corr_matrix, annot=True, cmap='coolwarm', fmt='.2f')\n",
    "plt.title('Correlation Matrix of Key Numeric Features')\n",
    "plt.show()\n",
    "\n",
    "# Print the correlation matrix for reference\n",
    "print(corr_matrix)"
   ]
  },
  {
   "cell_type": "markdown",
   "id": "c60a72b3-2a5d-416f-89c7-1fc798414a46",
   "metadata": {},
   "source": [
    "### Insights:\n",
    "<ol>\n",
    "    <li>Loan Amount and Term: There’s a moderate positive correlation (0.36) between loan amount and loan term, indicating that larger loans are more likely to have longer terms.</li>\n",
    "\t<li>Interest Rate and Term: A moderate positive correlation (0.45) exists between interest rate and loan term, suggesting that longer-term loans tend to have higher interest rates.</li>\n",
    "\t<li>Interest Rate and Revolving Credit Utilization: A relatively strong positive correlation (0.47) between interest rate and revolving credit utilization indicates that borrowers with higher credit utilization tend to receive higher interest rates.</li>\n",
    "\t<li>Weak Correlations: Most other correlations are weak, indicating that the variables contribute independently to the likelihood of default without much redundancy.</li>\n",
    "</ol>\n",
    "\n",
    "### Action:\n",
    "<ol>\n",
    "\t<li>Given the moderate correlation between interest rate and revolving credit utilization, both features should be included in any analysis, but be aware of potential multicollinearity.</li>\n",
    "\t<li>The weak correlations between most features suggest that they capture different aspects of borrower risk, making them all valuable in a holistic risk assessment.</li>\n",
    "</ol>\n",
    "\n",
    "\t"
   ]
  },
  {
   "cell_type": "markdown",
   "id": "8bb46633-7772-4cd0-aff9-ec4f0874aabf",
   "metadata": {},
   "source": [
    "## Derived Metrics based Analysis"
   ]
  },
  {
   "cell_type": "code",
   "execution_count": null,
   "id": "0fc85c47-1dd3-4f8c-8ce0-7169fdece914",
   "metadata": {},
   "outputs": [],
   "source": [
    "# Segment borrowers into income quartiles\n",
    "loan_data['income_segment'] = pd.qcut(loan_data['annual_inc'], 4, labels=['Low', 'Medium', 'High', 'Very High'])\n",
    "\n",
    "# Analyze default rates by income segment\n",
    "income_segment_vs_status = pd.crosstab(loan_data['income_segment'], loan_data['loan_status'], normalize='index')\n",
    "print(\"\\n--- Income Segment vs Loan Status ---\")\n",
    "print(income_segment_vs_status)\n",
    "\n",
    "plt.figure(figsize=(10, 6))\n",
    "sns.countplot(x='income_segment', data=loan_data, hue='loan_status')\n",
    "plt.title('Loan Status by Income Segment')\n",
    "plt.show()"
   ]
  },
  {
   "cell_type": "markdown",
   "id": "67ad8601-29bf-473d-b48b-7cd734dc9b27",
   "metadata": {},
   "source": [
    "### Recommendations\n",
    "\n",
    "#### Major Driving factor which can be used to predict the chance of defaulting and avoiding Credit Loss:\n",
    "- DTI\n",
    "- Grades\n",
    "- Verification Status\n",
    "- Annual income\n",
    "- Pub_rec_bankruptcies\n",
    "#### Other considerations for 'defaults' :\n",
    "- Burrowers not from large urban cities like california, new york, texas, florida etc.\n",
    "- Burrowers having annual income in the range 50000-100000.\n",
    "- Burrowers having Public Recorded Bankruptcy.\n",
    "- Burrowers with least grades like E,F,G which indicates high risk.\n",
    "- Burrowers with very high Debt to Income value.\n",
    "- Burrowers with working experience 10+ years."
   ]
  },
  {
   "cell_type": "markdown",
   "id": "6c38dce0-0fdd-4735-a19c-218b935e7f9c",
   "metadata": {},
   "source": [
    "### Incorporate Findings "
   ]
  },
  {
   "cell_type": "markdown",
   "id": "a0fdad29-4fd5-4ee0-bebb-f62a75cbe1ae",
   "metadata": {},
   "source": [
    "To incorporate the findings into decision-making using specific numbers or ranges, you can set thresholds and ranges based on the statistical analysis we’ve conducted. Here’s how you can proceed:\n",
    "\n",
    "1. Income-Based Loan Approval Criteria\n",
    "\n",
    "Income Segment Thresholds\n",
    "\n",
    "\t•\tLow Income Segment: Borrowers with annual income below approximately $40,404 (25th percentile, from the earlier annual_inc.describe() output) fall into the Low income segment.\n",
    "\t•\tDecision Criteria:\n",
    "\t•\tLoan Amount: Limit the loan amount for borrowers in the Low income segment to a maximum of $10,000. This cap reduces exposure to risk.\n",
    "\t•\tInterest Rate: Apply a higher interest rate, e.g., 2% above the average rate, for borrowers in this segment to compensate for the higher risk.\n",
    "\t•\tLoan Term: Offer only 36-month terms to borrowers in this segment. Discourage or disallow 60-month terms due to their higher default rates.\n",
    "\t•\tVery High Income Segment: Borrowers with annual income above approximately $82,300 (75th percentile) fall into the Very High income segment.\n",
    "\t•\tDecision Criteria:\n",
    "\t•\tLoan Amount: Allow higher loan amounts, up to the maximum loan amount available ($35,000).\n",
    "\t•\tInterest Rate: Offer a lower interest rate, e.g., 1% below the average rate, to encourage borrowing from lower-risk borrowers.\n",
    "\t•\tLoan Term: Allow flexibility in choosing between 36 and 60 months, with possibly better terms (e.g., lower fees or rates) for 36-month loans.\n",
    "\n",
    "2. Loan Term Criteria\n",
    "\n",
    "Term-Based Adjustments\n",
    "\n",
    "\t•\t60-Month Term:\n",
    "\t•\tIncome Requirement: Require a minimum annual income of $60,000 for approval of a 60-month loan term. This threshold is set above the median income to ensure that longer-term loans are extended only to more financially stable borrowers.\n",
    "\t•\tInterest Rate Adjustment: For 60-month loans, add an additional 0.5% to 1% on the interest rate compared to 36-month loans to account for the higher risk of default.\n",
    "\t•\t36-Month Term:\n",
    "\t•\tIncome Flexibility: Offer loans to borrowers with incomes as low as $40,000 but apply stricter limits on the loan amount and interest rate if the income is below $50,000.\n",
    "\t•\tInterest Rate: Offer standard interest rates or potentially lower rates to encourage shorter-term borrowing.\n",
    "\n",
    "3. Purpose-Based Adjustments\n",
    "\n",
    "High-Risk Loan Purposes\n",
    "\n",
    "\t•\tSmall Business Loans:\n",
    "\t•\tDefault Rate: With a default rate of approximately 25.9%, impose stringent requirements:\n",
    "\t•\tMinimum Income: Require a minimum income of $75,000.\n",
    "\t•\tCollateral: Demand collateral or a co-signer to mitigate risk.\n",
    "\t•\tLoan Amount: Cap the loan amount at $15,000 for small business purposes.\n",
    "\t•\tOther High-Risk Purposes (e.g., Educational, Medical):\n",
    "\t•\tMinimum Income: Set a minimum income threshold of $50,000.\n",
    "\t•\tInterest Rate: Apply a risk premium of 1.5% to 2% above the standard rate.\n",
    "\t•\tLoan Term: Limit the term to 36 months unless the borrower has an income exceeding $80,000, in which case a 60-month term might be considered.\n",
    "\n",
    "Low-Risk Loan Purposes\n",
    "\n",
    "\t•\tCredit Card Consolidation:\n",
    "\t•\tDefault Rate: With a lower default rate (~10.6%), offer favorable terms:\n",
    "\t•\tInterest Rate: Provide competitive rates, potentially below the average, to encourage consolidation.\n",
    "\t•\tLoan Amount: Allow up to $35,000, especially if the borrower’s income is above $60,000.\n",
    "\t•\tMajor Purchases/Weddings:\n",
    "\t•\tTerms: Offer standard or slightly favorable terms, with interest rates 0.5% below average for those in the High or Very High income segments.\n",
    "\n",
    "4. Revolving Credit Utilization\n",
    "\n",
    "Utilization-Based Risk Adjustment\n",
    "\n",
    "\t•\tHigh Utilization (Above 50%):\n",
    "\t•\tInterest Rate: Increase the interest rate by 1% for borrowers with credit utilization above 50%.\n",
    "\t•\tLoan Amount: Reduce the maximum loan amount available by 20% to 30% for high utilization borrowers.\n",
    "\t•\tCredit Monitoring: Implement more frequent monitoring of borrowers’ credit utilization if they are approved for a loan.\n",
    "\t•\tLow Utilization (Below 30%):\n",
    "\t•\tIncentives: Offer better terms, such as reduced interest rates (0.5% to 1% below average) or higher loan amounts (up to $35,000), for borrowers with lower utilization rates.\n",
    "\n",
    "5. Implementation and Monitoring\n",
    "\n",
    "\t•\tRegular Reviews: Conduct quarterly reviews of loan performance data to assess whether these criteria effectively reduce default rates. Adjust thresholds and rates as necessary."
   ]
  },
  {
   "cell_type": "code",
   "execution_count": null,
   "id": "be602179-9988-4659-ab11-e23518e46503",
   "metadata": {},
   "outputs": [],
   "source": []
  }
 ],
 "metadata": {
  "kernelspec": {
   "display_name": "ln_case_study",
   "language": "python",
   "name": "ln_case_study"
  },
  "language_info": {
   "codemirror_mode": {
    "name": "ipython",
    "version": 3
   },
   "file_extension": ".py",
   "mimetype": "text/x-python",
   "name": "python",
   "nbconvert_exporter": "python",
   "pygments_lexer": "ipython3",
   "version": "3.12.4"
  }
 },
 "nbformat": 4,
 "nbformat_minor": 5
}
